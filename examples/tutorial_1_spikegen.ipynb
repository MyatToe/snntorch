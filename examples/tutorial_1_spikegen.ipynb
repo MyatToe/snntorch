{
  "cells": [
    {
      "cell_type": "markdown",
      "metadata": {
        "id": "RBNKFLJIobYt"
      },
      "source": [
        "[<img src='https://github.com/jeshraghian/snntorch/blob/master/docs/_static/img/snntorch_alpha_w.png?raw=true' width=\"400\">](https://github.com/jeshraghian/snntorch/)\n",
        "\n",
        "# Tutorial 1 - Spike Encoding\n",
        "## By Jason K. Eshraghian (www.ncg.ucsc.edu)\n",
        "\n",
        "\n",
        "<a href=\"https://colab.research.google.com/github/jeshraghian/snntorch/blob/master/examples/tutorial_1_spikegen.ipynb\">\n",
        "  <img src=\"https://colab.research.google.com/assets/colab-badge.svg\" alt=\"Open In Colab\"/>\n",
        "</a>\n",
        "\n",
        "[<img src='https://github.com/jeshraghian/snntorch/blob/master/docs/_static/img/GitHub-Mark-Light-120px-plus.png?raw=true' width=\"28\">](https://github.com/jeshraghian/snntorch/) [<img src='https://github.com/jeshraghian/snntorch/blob/master/docs/_static/img/GitHub_Logo_White.png?raw=true' width=\"80\">](https://github.com/jeshraghian/snntorch/)\n"
      ]
    },
    {
      "cell_type": "markdown",
      "metadata": {
        "id": "4blpfg4y44uO"
      },
      "source": [
        "The snnTorch tutorial series is based on the following paper. If you find these resources or code useful in your work, please consider citing the following source:\n",
        "\n",
        "> <cite> [Jason K. Eshraghian, Max Ward, Emre Neftci, Xinxin Wang, Gregor Lenz, Girish Dwivedi, Mohammed Bennamoun, Doo Seok Jeong, and Wei D. Lu. \"Training Spiking Neural Networks Using Lessons From Deep Learning\". arXiv preprint arXiv:2109.12894, September 2021.](https://arxiv.org/abs/2109.12894) </cite>"
      ]
    },
    {
      "cell_type": "markdown",
      "metadata": {
        "id": "lnF_PEo5obYv",
        "pycharm": {
          "name": "#%% md\n"
        }
      },
      "source": [
        "In this tutorial, you will learn how to use snnTorch to:\n",
        "* convert datasets into spiking datasets, \n",
        "* how to visualise them, \n",
        "* and how to generate random spike trains."
      ]
    },
    {
      "cell_type": "markdown",
      "metadata": {
        "id": "d7qhH_lt8_mn"
      },
      "source": [
        "# Introduction\n",
        "Light is what we see when the retina converts photons into spikes. Odors are what we smell when volatilised molecules are converted into spikes. Touch is what we feel when nerve endings turn tactile pressure into spikes. The brain trades in the global currency of the *spike*. \n",
        "\n",
        "If our end goal is to build a spiking neural network (SNN), it makes sense to use spikes at the input too. Although it is quite common to use non-spiking inputs (as will be seen in Tutorial 3), part of the appeal of encoding data come from the *three S's*: spikes, sparsity, and static suppression.\n",
        "\n",
        "\n",
        "\n",
        "1.   **Spikes**: (a-b) Biological neurons process and communicate via spikes, which are electrical impulses of approximately 100 mV in amplitude. (c) Many computational models of neurons simplify this voltage burst to a discrete, single-bit event: a '1' or a '0'. This is far simpler to represent in hardware than a high precision value.\n",
        "\n",
        "2.   **Sparsity**: (c) Neurons spend most of their time at rest, silencing most activations to *zero* at any given time. Not only are sparse vectors/tensors (with loads of zeros) cheap to store, but say we need to multiply sparse activations with synaptic weights. If most values are multiplied by '0', then we don't need to read many of the network parameters from memory. This means neuromorphic hardware can be extremely efficient. \n",
        "\n",
        "3.   **Static-Suppression (a.k.a, event-driven processing**: (d-e) The sensory periphery only processes information when there is new information to process. Each pixel in (e) responds to *changes* in illuminance, so most of the image is blocked out. Conventional signal processing requires all channels/pixels to adhere to a global sampling/shutter rate, which slows down how frequently sensing can take place. Event-driven processing now only contributes to sparsity and power-efficiency by blocking unchanging input, but it often allows for much faster processing speeds.\n",
        "\n",
        "\n",
        "<center>\n",
        "<img src='https://github.com/jeshraghian/snntorch/blob/master/docs/_static/img/examples/tutorial1/3s.png?raw=true' width=\"600\">\n",
        "</center>"
      ]
    },
    {
      "cell_type": "markdown",
      "metadata": {
        "id": "lGNOnFM4DzHY"
      },
      "source": [
        "In this tutorial, we will assume we have some non-spiking input data (i.e., the MNIST dataset) and that we want to encode it into spikes using a few different techniques. So let's get started! "
      ]
    },
    {
      "cell_type": "markdown",
      "metadata": {
        "id": "GAbXmmVN50Pl"
      },
      "source": [
        "Install the latest PyPi distribution of snnTorch:"
      ]
    },
    {
      "cell_type": "code",
      "execution_count": 1,
      "metadata": {
        "id": "jxLoYgkhobYw",
        "pycharm": {
          "name": "#%%\n"
        },
        "outputId": "42126a44-5a54-49d9-ce9e-d9a8332b107d",
        "colab": {
          "base_uri": "https://localhost:8080/"
        }
      },
      "outputs": [
        {
          "output_type": "stream",
          "name": "stdout",
          "text": [
            "Looking in indexes: https://pypi.org/simple, https://us-python.pkg.dev/colab-wheels/public/simple/\n",
            "Collecting snntorch\n",
            "  Downloading snntorch-0.6.4-py2.py3-none-any.whl (107 kB)\n",
            "\u001b[2K     \u001b[90m━━━━━━━━━━━━━━━━━━━━━━━━━━━━━━━━━━━━━━\u001b[0m \u001b[32m107.8/107.8 kB\u001b[0m \u001b[31m10.4 MB/s\u001b[0m eta \u001b[36m0:00:00\u001b[0m\n",
            "\u001b[?25hRequirement already satisfied: torch>=1.1.0 in /usr/local/lib/python3.10/dist-packages (from snntorch) (2.0.1+cu118)\n",
            "Requirement already satisfied: pandas in /usr/local/lib/python3.10/dist-packages (from snntorch) (1.5.3)\n",
            "Requirement already satisfied: matplotlib in /usr/local/lib/python3.10/dist-packages (from snntorch) (3.7.1)\n",
            "Requirement already satisfied: numpy>=1.17 in /usr/local/lib/python3.10/dist-packages (from snntorch) (1.22.4)\n",
            "Requirement already satisfied: filelock in /usr/local/lib/python3.10/dist-packages (from torch>=1.1.0->snntorch) (3.12.0)\n",
            "Requirement already satisfied: typing-extensions in /usr/local/lib/python3.10/dist-packages (from torch>=1.1.0->snntorch) (4.5.0)\n",
            "Requirement already satisfied: sympy in /usr/local/lib/python3.10/dist-packages (from torch>=1.1.0->snntorch) (1.11.1)\n",
            "Requirement already satisfied: networkx in /usr/local/lib/python3.10/dist-packages (from torch>=1.1.0->snntorch) (3.1)\n",
            "Requirement already satisfied: jinja2 in /usr/local/lib/python3.10/dist-packages (from torch>=1.1.0->snntorch) (3.1.2)\n",
            "Requirement already satisfied: triton==2.0.0 in /usr/local/lib/python3.10/dist-packages (from torch>=1.1.0->snntorch) (2.0.0)\n",
            "Requirement already satisfied: cmake in /usr/local/lib/python3.10/dist-packages (from triton==2.0.0->torch>=1.1.0->snntorch) (3.25.2)\n",
            "Requirement already satisfied: lit in /usr/local/lib/python3.10/dist-packages (from triton==2.0.0->torch>=1.1.0->snntorch) (16.0.5)\n",
            "Requirement already satisfied: contourpy>=1.0.1 in /usr/local/lib/python3.10/dist-packages (from matplotlib->snntorch) (1.0.7)\n",
            "Requirement already satisfied: cycler>=0.10 in /usr/local/lib/python3.10/dist-packages (from matplotlib->snntorch) (0.11.0)\n",
            "Requirement already satisfied: fonttools>=4.22.0 in /usr/local/lib/python3.10/dist-packages (from matplotlib->snntorch) (4.39.3)\n",
            "Requirement already satisfied: kiwisolver>=1.0.1 in /usr/local/lib/python3.10/dist-packages (from matplotlib->snntorch) (1.4.4)\n",
            "Requirement already satisfied: packaging>=20.0 in /usr/local/lib/python3.10/dist-packages (from matplotlib->snntorch) (23.1)\n",
            "Requirement already satisfied: pillow>=6.2.0 in /usr/local/lib/python3.10/dist-packages (from matplotlib->snntorch) (8.4.0)\n",
            "Requirement already satisfied: pyparsing>=2.3.1 in /usr/local/lib/python3.10/dist-packages (from matplotlib->snntorch) (3.0.9)\n",
            "Requirement already satisfied: python-dateutil>=2.7 in /usr/local/lib/python3.10/dist-packages (from matplotlib->snntorch) (2.8.2)\n",
            "Requirement already satisfied: pytz>=2020.1 in /usr/local/lib/python3.10/dist-packages (from pandas->snntorch) (2022.7.1)\n",
            "Requirement already satisfied: six>=1.5 in /usr/local/lib/python3.10/dist-packages (from python-dateutil>=2.7->matplotlib->snntorch) (1.16.0)\n",
            "Requirement already satisfied: MarkupSafe>=2.0 in /usr/local/lib/python3.10/dist-packages (from jinja2->torch>=1.1.0->snntorch) (2.1.2)\n",
            "Requirement already satisfied: mpmath>=0.19 in /usr/local/lib/python3.10/dist-packages (from sympy->torch>=1.1.0->snntorch) (1.3.0)\n",
            "Installing collected packages: snntorch\n",
            "Successfully installed snntorch-0.6.4\n"
          ]
        }
      ],
      "source": [
        "!pip install snntorch"
      ]
    },
    {
      "cell_type": "markdown",
      "metadata": {
        "id": "k6E7VH5kbTmA"
      },
      "source": [
        "## 1. Setting up the MNIST Dataset"
      ]
    },
    {
      "cell_type": "markdown",
      "metadata": {
        "id": "Suffg8_ZobYw",
        "pycharm": {
          "name": "#%% md\n"
        }
      },
      "source": [
        "### 1.1. Import packages and setup environment"
      ]
    },
    {
      "cell_type": "code",
      "execution_count": 2,
      "metadata": {
        "id": "cR9okh0jobYx",
        "pycharm": {
          "name": "#%%\n"
        }
      },
      "outputs": [],
      "source": [
        "import snntorch as snn\n",
        "import torch"
      ]
    },
    {
      "cell_type": "code",
      "execution_count": 3,
      "metadata": {
        "id": "e4LPD0WCobYx",
        "pycharm": {
          "name": "#%%\n"
        }
      },
      "outputs": [],
      "source": [
        "# Training Parameters\n",
        "batch_size=128\n",
        "data_path='/data/mnist'\n",
        "num_classes = 10  # MNIST has 10 output classes\n",
        "\n",
        "# Torch Variables\n",
        "dtype = torch.float"
      ]
    },
    {
      "cell_type": "markdown",
      "metadata": {
        "id": "x5X2a5a9obYy"
      },
      "source": [
        "### 1.2 Download Dataset"
      ]
    },
    {
      "cell_type": "code",
      "execution_count": 4,
      "metadata": {
        "id": "OlbY8Rm9obYy",
        "pycharm": {
          "name": "#%%\n"
        },
        "outputId": "adf92332-7655-418b-b79c-9bf7ae03dd13",
        "colab": {
          "base_uri": "https://localhost:8080/"
        }
      },
      "outputs": [
        {
          "output_type": "stream",
          "name": "stdout",
          "text": [
            "Downloading http://yann.lecun.com/exdb/mnist/train-images-idx3-ubyte.gz\n",
            "Downloading http://yann.lecun.com/exdb/mnist/train-images-idx3-ubyte.gz to /data/mnist/MNIST/raw/train-images-idx3-ubyte.gz\n"
          ]
        },
        {
          "output_type": "stream",
          "name": "stderr",
          "text": [
            "100%|██████████| 9912422/9912422 [00:00<00:00, 315879251.81it/s]"
          ]
        },
        {
          "output_type": "stream",
          "name": "stdout",
          "text": [
            "Extracting /data/mnist/MNIST/raw/train-images-idx3-ubyte.gz to /data/mnist/MNIST/raw\n"
          ]
        },
        {
          "output_type": "stream",
          "name": "stderr",
          "text": [
            "\n"
          ]
        },
        {
          "output_type": "stream",
          "name": "stdout",
          "text": [
            "\n",
            "Downloading http://yann.lecun.com/exdb/mnist/train-labels-idx1-ubyte.gz\n",
            "Downloading http://yann.lecun.com/exdb/mnist/train-labels-idx1-ubyte.gz to /data/mnist/MNIST/raw/train-labels-idx1-ubyte.gz\n"
          ]
        },
        {
          "output_type": "stream",
          "name": "stderr",
          "text": [
            "100%|██████████| 28881/28881 [00:00<00:00, 39278759.35it/s]\n"
          ]
        },
        {
          "output_type": "stream",
          "name": "stdout",
          "text": [
            "Extracting /data/mnist/MNIST/raw/train-labels-idx1-ubyte.gz to /data/mnist/MNIST/raw\n",
            "\n",
            "Downloading http://yann.lecun.com/exdb/mnist/t10k-images-idx3-ubyte.gz\n",
            "Downloading http://yann.lecun.com/exdb/mnist/t10k-images-idx3-ubyte.gz to /data/mnist/MNIST/raw/t10k-images-idx3-ubyte.gz\n"
          ]
        },
        {
          "output_type": "stream",
          "name": "stderr",
          "text": [
            "100%|██████████| 1648877/1648877 [00:00<00:00, 161194559.87it/s]\n"
          ]
        },
        {
          "output_type": "stream",
          "name": "stdout",
          "text": [
            "Extracting /data/mnist/MNIST/raw/t10k-images-idx3-ubyte.gz to /data/mnist/MNIST/raw\n",
            "\n",
            "Downloading http://yann.lecun.com/exdb/mnist/t10k-labels-idx1-ubyte.gz\n",
            "Downloading http://yann.lecun.com/exdb/mnist/t10k-labels-idx1-ubyte.gz to /data/mnist/MNIST/raw/t10k-labels-idx1-ubyte.gz\n"
          ]
        },
        {
          "output_type": "stream",
          "name": "stderr",
          "text": [
            "100%|██████████| 4542/4542 [00:00<00:00, 4118142.84it/s]\n"
          ]
        },
        {
          "output_type": "stream",
          "name": "stdout",
          "text": [
            "Extracting /data/mnist/MNIST/raw/t10k-labels-idx1-ubyte.gz to /data/mnist/MNIST/raw\n",
            "\n"
          ]
        }
      ],
      "source": [
        "from torchvision import datasets, transforms\n",
        "\n",
        "# Define a transform\n",
        "transform = transforms.Compose([\n",
        "            transforms.Resize((28,28)),\n",
        "            transforms.Grayscale(),\n",
        "            transforms.ToTensor(),\n",
        "            transforms.Normalize((0,), (1,))])\n",
        "\n",
        "mnist_train = datasets.MNIST(data_path, train=True, download=True, transform=transform)"
      ]
    },
    {
      "cell_type": "markdown",
      "metadata": {
        "id": "6ZyzEp9YHgPb"
      },
      "source": [
        "If the above code block throws an error, e.g. the MNIST servers are down, then uncomment the following code instead."
      ]
    },
    {
      "cell_type": "code",
      "execution_count": null,
      "metadata": {
        "id": "ZpGLLVqeHgwy"
      },
      "outputs": [],
      "source": [
        "# # temporary dataloader if MNIST service is unavailable\n",
        "# !wget www.di.ens.fr/~lelarge/MNIST.tar.gz\n",
        "# !tar -zxvf MNIST.tar.gz\n",
        "\n",
        "# mnist_train = datasets.MNIST(root = './', train=True, download=True, transform=transform)"
      ]
    },
    {
      "cell_type": "markdown",
      "metadata": {
        "id": "T5wXl2bVobYz",
        "pycharm": {
          "name": "#%% md\n"
        }
      },
      "source": [
        "Until we actually start training a network, we won't need large datasets.\n",
        "`snntorch.utils` contains a few useful functions for modifying datasets. Apply `data_subset` to reduce the dataset by the factor defined in `subset`. *E.g., for `subset=10`, a training set of 60,000 will be reduced to 6,000.*\n"
      ]
    },
    {
      "cell_type": "code",
      "execution_count": 5,
      "metadata": {
        "id": "5FPsPU46obYz",
        "pycharm": {
          "name": "#%%\n"
        },
        "outputId": "af83cdb2-6b48-43ed-e0b1-8de114f3af2f",
        "colab": {
          "base_uri": "https://localhost:8080/"
        }
      },
      "outputs": [
        {
          "output_type": "stream",
          "name": "stdout",
          "text": [
            "The size of mnist_train is 6000\n"
          ]
        }
      ],
      "source": [
        "from snntorch import utils\n",
        "\n",
        "subset = 10\n",
        "mnist_train = utils.data_subset(mnist_train, subset)\n",
        "print(f\"The size of mnist_train is {len(mnist_train)}\")"
      ]
    },
    {
      "cell_type": "markdown",
      "metadata": {
        "id": "9CedMagsobY0",
        "pycharm": {
          "name": "#%% md\n"
        }
      },
      "source": [
        "### 1.3 Create DataLoaders\n",
        "The Dataset objects created above load data into memory, and the DataLoader will serve it up in batches. DataLoaders in PyTorch are a handy interface for passing data into a network. They return an iterator divided up into mini-batches of size ``batch_size``."
      ]
    },
    {
      "cell_type": "code",
      "execution_count": 9,
      "metadata": {
        "id": "TrJLlWj2obY0",
        "pycharm": {
          "name": "#%%\n"
        }
      },
      "outputs": [],
      "source": [
        "from torch.utils.data import DataLoader\n",
        "\n",
        "train_loader = DataLoader(mnist_train, batch_size=batch_size, shuffle=True)"
      ]
    },
    {
      "cell_type": "markdown",
      "metadata": {
        "id": "mwSdczxKobY0",
        "pycharm": {
          "name": "#%% md\n"
        }
      },
      "source": [
        "## 2. Spike Encoding\n",
        "\n",
        "Spiking Neural Networks (SNNs) are made to exploit time-varying data. And yet, MNIST is not a time-varying dataset.\n",
        "There are two options for using MNIST with an SNN:\n",
        "\n",
        "1. Repeatedly pass the same training sample $\\mathbf{X}\\in\\mathbb{R}^{m\\times n}$ to the network at each time step. This is like converting MNIST into a static, unchanging video. Each element of $\\mathbf{X}$ can take a high precision value normalized between 0 and 1: $X_{ij}\\in [0, 1]$. \n",
        "\n",
        "<center>\n",
        "<img src='https://github.com/jeshraghian/snntorch/blob/master/docs/_static/img/examples/tutorial1/1_2_1_static.png?raw=true' width=\"700\">\n",
        "</center>\n",
        "\n",
        "2. Convert the input into a spike train of sequence length `num_steps`, where each feature/pixel takes on a discrete value $X_{i,j} \\in \\{0, 1\\}$.\n",
        "In this case, MNIST is converted into a time-varying sequence of spikes that features a relation to the original image.\n",
        "\n",
        "<center>\n",
        "<img src='https://github.com/jeshraghian/snntorch/blob/master/docs/_static/img/examples/tutorial1/1_2_2_spikeinput.png?raw=true' width=\"700\">\n",
        "</center>\n",
        "\n",
        "The first method is quite straightforward, and does not fully exploit the temporal dynamics of SNNs. So let’s consider data-to-spike conversion (encoding) from (2) in more detail.\n",
        "\n",
        "The module `snntorch.spikegen` (i.e., spike generation) contains a series of functions that simplify the conversion of data into spikes. There are currently three options available for spike encoding in `snntorch`:\n",
        "\n",
        "1. Rate coding: [`spikegen.rate`](https://snntorch.readthedocs.io/en/latest/snntorch.spikegen.html#snntorch.spikegen.rate)\n",
        "2. Latency coding: [`spikegen.latency`](https://snntorch.readthedocs.io/en/latest/snntorch.spikegen.html#snntorch.spikegen.latency)\n",
        "3. Delta modulation: [`spikegen.delta`](https://snntorch.readthedocs.io/en/latest/snntorch.spikegen.html#snntorch.spikegen.delta)\n",
        "\n",
        "How do these differ?\n",
        "\n",
        "\n",
        "1.   *Rate coding* uses input features to determine spiking **frequency**\n",
        "2.   *Latency coding* uses input features to determine spike **timing**\n",
        "3.   *Delta modulation* uses the temporal **change** of input features to generate spikes\n"
      ]
    },
    {
      "cell_type": "markdown",
      "metadata": {
        "id": "3D5HSoY4bQDm"
      },
      "source": [
        "### 2.1 Rate coding of MNIST\n",
        "\n",
        "One example of converting input data into a rate code is as follows. \n",
        "Each normalised input feature $X_{ij}$ is used as the probability an event (spike) occurs at any given time step, returning a rate-coded value $R_{ij}$. This can be treated as a Bernoulli trial: $R_{ij}\\sim B(n,p)$, where the number of trials is $n=1$, and the probability of success (spiking) is $p=X_{ij}$. Explicitly, the probability a spike occurs is:\n",
        "\n",
        "$${\\rm P}(R_{ij}=1) = X_{ij} = 1 - {\\rm P}(R_{ij} = 0)$$\n",
        "\n",
        "Create a vector filled with the value '0.5' and encode it using the above technique:"
      ]
    },
    {
      "cell_type": "code",
      "execution_count": 6,
      "metadata": {
        "id": "DxorUvomL1ei",
        "outputId": "112742a1-ef5b-4877-fb9c-b838225f7ac9",
        "colab": {
          "base_uri": "https://localhost:8080/"
        }
      },
      "outputs": [
        {
          "output_type": "stream",
          "name": "stdout",
          "text": [
            "Converted vector: tensor([0., 0., 1., 0., 0., 1., 1., 1., 0., 1.])\n",
            "The output is spiking 50.00% of the time.\n"
          ]
        }
      ],
      "source": [
        "# Temporal Dynamics\n",
        "num_steps = 10\n",
        "\n",
        "# create vector filled with 0.5\n",
        "raw_vector = torch.ones(num_steps)*0.5\n",
        "\n",
        "# pass each sample through a Bernoulli trial\n",
        "rate_coded_vector = torch.bernoulli(raw_vector)\n",
        "print(f\"Converted vector: {rate_coded_vector}\")\n",
        "\n",
        "print(f\"The output is spiking {rate_coded_vector.sum()*100/len(rate_coded_vector):.2f}% of the time.\")"
      ]
    },
    {
      "cell_type": "markdown",
      "metadata": {
        "id": "l0E8Z8mSNflV"
      },
      "source": [
        "Now try again, but increasing the length of `raw_vector`:"
      ]
    },
    {
      "cell_type": "code",
      "execution_count": 7,
      "metadata": {
        "id": "Y6uUgpktNjBg",
        "outputId": "4165c02f-5244-4921-9c58-1775abc08f4e",
        "colab": {
          "base_uri": "https://localhost:8080/"
        }
      },
      "outputs": [
        {
          "output_type": "stream",
          "name": "stdout",
          "text": [
            "The output is spiking 45.00% of the time.\n"
          ]
        }
      ],
      "source": [
        "num_steps = 100\n",
        "\n",
        "# create vector filled with 0.5\n",
        "raw_vector = torch.ones(num_steps)*0.5\n",
        "\n",
        "# pass each sample through a Bernoulli trial\n",
        "rate_coded_vector = torch.bernoulli(raw_vector)\n",
        "print(f\"The output is spiking {rate_coded_vector.sum()*100/len(rate_coded_vector):.2f}% of the time.\")"
      ]
    },
    {
      "cell_type": "markdown",
      "metadata": {
        "id": "zoLxfVoINzdH"
      },
      "source": [
        "As `num_steps`$\\rightarrow\\infty$, the proportion of spikes approaches the original raw value."
      ]
    },
    {
      "cell_type": "markdown",
      "metadata": {
        "id": "eYKsWmoGLz6S"
      },
      "source": [
        "For an MNIST image, this probability of spiking corresponds to the pixel value. A white pixel corresponds to a 100% probability of spiking, and a black pixel will never generate a spike. Take a look at the 'Rate Coding' column below for further intuition.\n",
        "\n",
        "\n",
        "<center>\n",
        "<img src='https://github.com/jeshraghian/snntorch/blob/master/docs/_static/img/examples/tutorial1/1_2_3_spikeconv.png?raw=true' width=\"1000\">\n",
        "</center>"
      ]
    },
    {
      "cell_type": "markdown",
      "metadata": {
        "id": "k8_Lzm6FOcm0"
      },
      "source": [
        "In a similar way, `spikegen.rate` can be used to generate a rate-coded sample of data. As each sample of MNIST is just an image, we can use `num_steps` to repeat it across time. "
      ]
    },
    {
      "cell_type": "code",
      "execution_count": 10,
      "metadata": {
        "id": "nz70JGXqobY1",
        "pycharm": {
          "name": "#%%\n"
        }
      },
      "outputs": [],
      "source": [
        "from snntorch import spikegen\n",
        "\n",
        "# Iterate through minibatches\n",
        "data = iter(train_loader)\n",
        "data_it, targets_it = next(data)\n",
        "\n",
        "# Spiking Data\n",
        "spike_data = spikegen.rate(data_it, num_steps=num_steps)"
      ]
    },
    {
      "cell_type": "markdown",
      "metadata": {
        "id": "q0hATEwKobY1",
        "pycharm": {
          "name": "#%% md\n"
        }
      },
      "source": [
        "If the input falls outside of $[0,1]$, this no longer represents a probability. Such cases are automatically clipped to ensure the feature represents a probability.\n",
        "\n",
        "The structure of the input data is ``[num_steps x batch_size x input dimensions]``:"
      ]
    },
    {
      "cell_type": "code",
      "execution_count": 11,
      "metadata": {
        "id": "ebdP5kFKobY2",
        "pycharm": {
          "name": "#%%\n"
        },
        "outputId": "b6856dd2-795a-4a5f-a5b2-78d6b69e5f86",
        "colab": {
          "base_uri": "https://localhost:8080/"
        }
      },
      "outputs": [
        {
          "output_type": "stream",
          "name": "stdout",
          "text": [
            "torch.Size([100, 128, 1, 28, 28])\n"
          ]
        }
      ],
      "source": [
        "print(spike_data.size())"
      ]
    },
    {
      "cell_type": "markdown",
      "metadata": {
        "id": "Cnas5Q89l_10"
      },
      "source": [
        "### 2.2 Visualization"
      ]
    },
    {
      "cell_type": "markdown",
      "metadata": {
        "id": "oVFuIXxMobY2",
        "pycharm": {
          "name": "#%% md\n"
        }
      },
      "source": [
        "#### 2.2.1 Animation\n",
        "snnTorch contains a module [`snntorch.spikeplot`](https://snntorch.readthedocs.io/en/latest/snntorch.spikeplot.html) that simplifies the process of visualizing, plotting, and animating spiking neurons.\n"
      ]
    },
    {
      "cell_type": "code",
      "execution_count": 12,
      "metadata": {
        "id": "4TYFlc4_ZK-u"
      },
      "outputs": [],
      "source": [
        "import matplotlib.pyplot as plt\n",
        "import snntorch.spikeplot as splt\n",
        "from IPython.display import HTML"
      ]
    },
    {
      "cell_type": "markdown",
      "metadata": {
        "id": "fwWROIkdobY3",
        "pycharm": {
          "name": "#%% md\n"
        }
      },
      "source": [
        "To plot one sample of data, index into a single sample from the batch (B) dimension of `spike_data`, ``[T x B x 1 x 28 x 28]``:"
      ]
    },
    {
      "cell_type": "code",
      "execution_count": 13,
      "metadata": {
        "id": "ZZxTqqOlobY3",
        "pycharm": {
          "name": "#%%\n"
        },
        "outputId": "4a7f64a8-0622-48f9-cdc1-66806c676402",
        "colab": {
          "base_uri": "https://localhost:8080/"
        }
      },
      "outputs": [
        {
          "output_type": "stream",
          "name": "stdout",
          "text": [
            "torch.Size([100, 28, 28])\n"
          ]
        }
      ],
      "source": [
        "spike_data_sample = spike_data[:, 0, 0]\n",
        "print(spike_data_sample.size())"
      ]
    },
    {
      "cell_type": "markdown",
      "metadata": {
        "id": "lJJyPUiuQ61x"
      },
      "source": [
        "`spikeplot.animator` makes it super simple to animate 2-D data.<br>\n",
        "Note: if you are running the notebook locally you may need to install ffmpeg: e.g., `pip install ffmpeg` or if in a Conda environment, `conda install -c conda-forge ffmpeg`.<br>\n",
        "If ffmpeg is not found, please uncomment the line below and modify the path to your ffmpeg.exe."
      ]
    },
    {
      "cell_type": "code",
      "execution_count": 14,
      "metadata": {
        "id": "4QVyvj9PobY3",
        "pycharm": {
          "name": "#%%\n"
        },
        "outputId": "c95cd0bd-2008-426e-aba5-73f76e96dab9",
        "colab": {
          "base_uri": "https://localhost:8080/",
          "height": 890
        }
      },
      "outputs": [
        {
          "output_type": "execute_result",
          "data": {
            "text/plain": [
              "<IPython.core.display.HTML object>"
            ],
            "text/html": [
              "<video width=\"640\" height=\"480\" controls autoplay loop>\n",
              "  <source type=\"video/mp4\" src=\"data:video/mp4;base64,AAAAHGZ0eXBNNFYgAAACAGlzb21pc28yYXZjMQAAAAhmcmVlAABfA21kYXQAAAKuBgX//6rcRem9\n",
              "5tlIt5Ys2CDZI+7veDI2NCAtIGNvcmUgMTU1IHIyOTE3IDBhODRkOTggLSBILjI2NC9NUEVHLTQg\n",
              "QVZDIGNvZGVjIC0gQ29weWxlZnQgMjAwMy0yMDE4IC0gaHR0cDovL3d3dy52aWRlb2xhbi5vcmcv\n",
              "eDI2NC5odG1sIC0gb3B0aW9uczogY2FiYWM9MSByZWY9MyBkZWJsb2NrPTE6MDowIGFuYWx5c2U9\n",
              "MHgzOjB4MTEzIG1lPWhleCBzdWJtZT03IHBzeT0xIHBzeV9yZD0xLjAwOjAuMDAgbWl4ZWRfcmVm\n",
              "PTEgbWVfcmFuZ2U9MTYgY2hyb21hX21lPTEgdHJlbGxpcz0xIDh4OGRjdD0xIGNxbT0wIGRlYWR6\n",
              "b25lPTIxLDExIGZhc3RfcHNraXA9MSBjaHJvbWFfcXBfb2Zmc2V0PS0yIHRocmVhZHM9MyBsb29r\n",
              "YWhlYWRfdGhyZWFkcz0xIHNsaWNlZF90aHJlYWRzPTAgbnI9MCBkZWNpbWF0ZT0xIGludGVybGFj\n",
              "ZWQ9MCBibHVyYXlfY29tcGF0PTAgY29uc3RyYWluZWRfaW50cmE9MCBiZnJhbWVzPTMgYl9weXJh\n",
              "bWlkPTIgYl9hZGFwdD0xIGJfYmlhcz0wIGRpcmVjdD0xIHdlaWdodGI9MSBvcGVuX2dvcD0wIHdl\n",
              "aWdodHA9MiBrZXlpbnQ9MjUwIGtleWludF9taW49MjUgc2NlbmVjdXQ9NDAgaW50cmFfcmVmcmVz\n",
              "aD0wIHJjX2xvb2thaGVhZD00MCByYz1jcmYgbWJ0cmVlPTEgY3JmPTIzLjAgcWNvbXA9MC42MCBx\n",
              "cG1pbj0wIHFwbWF4PTY5IHFwc3RlcD00IGlwX3JhdGlvPTEuNDAgYXE9MToxLjAwAIAAAAXsZYiE\n",
              "ADv//vdOvwKbRZdqA5JXCvbKpCZZuVJrAfKmAAADAAADAAADAJCEce5rlck9ZoAAAC9gCR1H+CEf\n",
              "eQE0MJhlkVauOm9SOhYVp0VeKYlvVS5Lz838Hf6P4a3VH4EtU8Nd3mCHuBNNwA3TS/U4bhzo58jr\n",
              "err+GwU1dCvFbEF+ptW1Gh22sg4Anxn1xzvQAEb7jpsXLZCjzJOKOPoVysXH9krH5ZWhihxJlj//\n",
              "dPBsM00bSoFs2N5Qof8s95Nr/NOzFrYh9ttfPzbFlqeC5mv9u6XGoyH1yflhOHo08FOID89aPDjY\n",
              "G06WU/2q5Oo6Vgdw7Ar/Vlkzs8guMdcQKMnsK+bnTAY/P5l8OJxUtviAwYAYzjHfdje6c4UzzLCL\n",
              "X+YqZS+S5qPgMLdynFVj053+qb7oZiCZ91wwsfUYaBjywsJU7uV7I6g0fgLui3hJw02mct7h3Ica\n",
              "jsKYQp9DDH8heyK3TxlwcfBrJnIJXeiZ3Fh9JPGLHAtn59S9jWgJkqwxuB5/JSwymdck9f322uR0\n",
              "iAONgYQC6SSgeVq64M/c/CcejyQsLXW2GcjzjEPY5pMZdbc+e9jEtWPueas4yd/ONUP63PVFV+tq\n",
              "z5x/92qepDjfJnv9wCFOzY8dPP9VYcYPRcs3cXWwujkcgi+je9rU8wKuaWFAP6zrpneLqdtTPtMs\n",
              "AVq93AqaivmKitVQ7AuIBKeYhhbMFBBIAkIjCPptLCsh0Q9LYZhtbuBhh94/w8KIVuV5dwFcsJWD\n",
              "8/7TzSRgkMbTF+SY8489CdcPad4uqdzlLGeMjpmTkSHIoP/d8h+DxoPr6ZwWKPt4igC5WfSdhcas\n",
              "9eczuUpjbYZuuP7GmTd36aY6u7AYtmwTPYE55wm0/+C6fFPxX3YVPeLkwhp1Wqx0Hrw06J6/O7/x\n",
              "hPfkNroXS/5Cq2GbkgU16uqPGka85s088jfye7FuKDR7bIUw48ajU59a/Ep7S1fRpxDwZHpncqiQ\n",
              "i6PVLtLHQJhfFixDc9CBWQD8rdbflU5DdT90Sc7+zG6aMw6TzNPBdZAbZbq52qSAbQjnE13DRPYi\n",
              "fC6pUC5pjigFCxH/tlFGvYwReuMz+thbrfhLbFum9KIuITFKL1uWXhQs4Bf3+KJPsVHunFx0Ywnp\n",
              "rOM4ek1gUNxJsLHr8anGvmlI3c0ZBno4ojaHbCjSpikBkXjVgz+hjibc+tIRDFHSR8N0+aKPvwJT\n",
              "UMlUr0cXUny6jvdgalHuak1QmgScOsrvh+O1YxVf3KIftWy7IGktBwIKymytVM3YR2R8cQMa/26a\n",
              "o8+Q3+sSUyw7jfkq6UKfs5AYh7bFWDsXI52d8Z9sAn6kbaOmhPRJ7BzVhHSDxiu/HMnZLLAFG32s\n",
              "zRBVnwdWt1pPVGSgm95hcbPEBZl3Fjk7IQOQpQIBi4tudgOzBODN5j6c5yqH4aWzyjDawS4QPFzx\n",
              "vGhbpMhX9PAxuWW2H+/RTNqM2cHZsI89fcOpsO8oTb3izl53sW3+0A6ISYtbMvPLrx7WYb2LKCTf\n",
              "tTYbkvXiqCvtGkvFx7HABpRCWMiCNQwTHriryCuauO0m1pndc61txjsPjKiRZBMQaZHBFg7J4VJF\n",
              "kWVactjQq9wS4mGqqN184pCT2KkZTaoOiRYaU11jYphLSdc45LvgSndB3exziu8N8wHktq+RKa1g\n",
              "aVnOC7lva/pGSGH8bj6+pPCpMtzfimJ/gLFkk1Ff/4Wcyl82P0BYrPLmNTEAph5FnVBAuL3cvjrA\n",
              "Nq10z85mWvl8/5XSfTx5eQNKlLCfZvrQ7DTrhvhxUW+oGVmKUZ0GVuTRhIK+higS1Hc0Kdxnve4+\n",
              "MYa/U/jFYELdXw53esJo39AXV5PzboBOuhZmNOuZrHlf6EvjMZs9Q05EQUKj0yg1IEDK1jDl+l6Q\n",
              "NZeRDEUItNGe/HhL+pG5y2m8T33Fchlj5w2/d+CoGTbvXe8JOMMgAfMZo4vgceACEEaQmBFS6hz0\n",
              "pS5SY2vPMYAY3JIc4hrLX7ghKAAAAwFVZpjmIAAChwAAAXVBmiRsQ7/+qZYAAG09s/X8w3oe78b/\n",
              "k8vwi3FeZRI1cw4niQrpXXTBFOd1kZ51HrEtQpJE+GQEp7R/r77UDInn/6iKBtFAo1NPXqPC9NX/\n",
              "4LH54cw03ryf08R9GeeMbbnXZ2LZ3Gnu+QZFngt8CkXyc71oK+NeiTvXmYvsXke23ijAhSCKC4Rt\n",
              "ROHpXKNCeAuWRcdt+YzT3I4p78n3CbNgY3gql41naUu9lh/ZwDFW/ujmnpKz4yytJAJT7Z0RmtQe\n",
              "QNB205MceJj3ic+i5sSbTmN/t7TyMWC+w9MdlT+G7/TFHNq9/8B8ZcMCQz81J5bbpspyxma/54VI\n",
              "jfCrHXVUD6olu8rqrs/qxydPjVLIs90CTY9M1oapk4CSSkdtYQHpQbvmDdxEkql44yc31j/14/hP\n",
              "mT94TJxmpel2TRE9DE3Xji9jdsUWTIEcXzmdl2eI0+ubGYEvSCndUKwRXI8FUu3jaCYpw4JWONKI\n",
              "sunW0bQ91D+AAAABWEGeQniF/wAAfv3rvw8dJbjTABtwMd8YV57kPHMn5wYTCQS/HAl0fr+GRTFG\n",
              "bkAny6TT/AmKbKoZ2XS//xWASrvfKzlH1JPG8YXD2gjOBolZfcRJVw/MEy8U4DxYgLa48RCEDeZ6\n",
              "peF55ONiYsQEKScEE3sMb6FPpe90UyaPMLc6IuBJetcUkf5/y/8hl+G8aliq3G768H/GhO8qlQZG\n",
              "mDvEhwxUUopG36JT5fQGvpUeg5/suZQfXj5VjB4Yo+Kg3JfG/XXWEUZSZgj47wYeDwC5PyJD0WUi\n",
              "sX0CVMmXOe1a8imABiQEd5Dn26fbQIMPmOlvWuPYW/1gz86ZckUH0tFATiB7KGCQRydsEfSteV0P\n",
              "d3ntKMD1NdYz4EiNOxaT6y+1ciIimKxp/q2/a1eFITX4FSUbgPemhF0jzq29JsnjyMSdzK33Uid0\n",
              "xvncKMA+vktrZd4QYdVBAAABQwGeYXRCvwAAsSWQUCX/jvSxhONi25IwFeLPgA3YPr/8YQXp4vhV\n",
              "HQ8nD2FDbx3r+4N1tYE1DIIXkfBC1Fy3KDvhnKNZJHk3Z9Si1GIOC/zBG/RkXqArKOso0dH1G4Az\n",
              "7zelYlXjR+2NJPcJOz6QCwsQpdn7Xyw+adaipvtL4n1bH78DKkzdpWw87RWFQWBwg0zSN0ZoAOuV\n",
              "bdzTp5BrVgb5pDQuQ9KGDEBZ9/SEONMOu9LqT2f3FVdPyGQ9dJQgA/1Q21CxrnATjsL1kqc5Rxg8\n",
              "9DQwt1qik3rRoDJULZyLH8jSjln3vKyStF+hr/jGfoR88zoivjje5IPuRZKgttxaS6bnzDLggflh\n",
              "PltsmhaQ5panIhdi8JQBev8FFlXMYlA8TAqemmczhJnTn6aZFlhAQVmbkNCMbmpt1JOMOOWkbn2m\n",
              "AAAAnAGeY2pCvwAAPMA616/0YyiurMGoAxh0fOg8JrSMTaPgggNCjfmriPLdAbDYwCGlTbkcZhcC\n",
              "F/SWNTQeKhYLOS3mjxvOaAGK9iVOnAS6JCTvcu7LdXBlFQFyG6MrSqN+A1Sp75jPIxNlH1DiiKqS\n",
              "lDNWGSq0Hpl/+ojILeYvpqFqfiTgJSHReRsOBd5T/nF5ep/gI0Ob0dMaWQfNNwAAAY5BmmhJqEFo\n",
              "mUwId//+qZYAAGoqPrgTk11uIvxBHMa66KSDRSIE/ZAVvV2fWFqSkGgCShBUwn98mPfL3TcZJ92B\n",
              "06KHeSIumaeJ2p8+EvqoHj99O8V+hJTyChRy1AhALaFizC8NDdwH+avs0CkeDTdHWTSSnSaoqmM3\n",
              "UiYEn8+WDo+GWg4qiTC7d8RbvAIguATUli39f5uY2kLsiRvGbQxkKkkj7CjTnuN4RKUrlVxLmPvL\n",
              "QGvFON2MEfwLED1LF+7WU0bjGOwJTErF2m6SsYU9aJ8XUhQWyYUdAYVVaAx7PXRs+Uu2zMkeP+gD\n",
              "l7bUFIp0Yu+FFw7X7gCI06Rc+vJwAm5r9bldOhq4eXnTcGbZ5BMLTUW46+uz3b3M4nJii+E660Kd\n",
              "sD2UZ2Sx52+CV4CwxFVA25Fk1WlIW5MFPs3Qb6/pAAb4JjPRoA1rBysp3VTPHAIu6laU58NceBEh\n",
              "eupHTOUlPmz1zBWZn/ToISYiRPEx+6iIqGBFSq5lCrGwnGt/3IZsYxheLW1xacurnwAAAMNBnoZF\n",
              "ESwv/wAAfFKb/OhQIRDBnLAAzkQzIfO5qvEQ8Zo2vg25Ce2LrznRX9xhcdHWIJnzZ05P+63as0gL\n",
              "UmuwAP4rQOCvW2rwiSlxt1t6lJlSuNCY6lNVyrNIx0x1tKMexLvhuDxoFqHZT0Dard+XQ0PDROIF\n",
              "2dgTr4f+5T3HyGt+KKbLEjqjxT1X73lrQjFogFnJjvajfzcVRpsJuevn5LeeAD6EVLOaHBO+4aID\n",
              "KppQddCv5lSXn8QOYGx+CUAhibMAAABiAZ6ldEK/AACoZIM01NKekAA7um5PlYON8I5jje3SC1qx\n",
              "NM8LdfqGlwh1WERTM2cAHMu88POon065LDa4R+GCXWDwRK0ykLjtUu+WDpUq1jCDPD9JMqJyehtN\n",
              "7KFAV1YEqhEAAAD0AZ6nakK/AACs1taJt3LMsy377vUSN3C4eW2wYYNqA9ACD9TB8+calYLxEwbt\n",
              "LXlCbuDLkt/Z7AM/64SfcY7/fimr6ERpx+TJf9Z9aROX+cEkajM3BkDd9gIM0BR27qcv3tSn6bI5\n",
              "OWjgN+C36qM1b9eR+lxB/blU8XqymMili4qglhCYCivRKfWrWRHmT+n2oNUk7HekfGS0B9k1eui/\n",
              "J1//DT9dtEKe8Omaabq486jsIlum5u686147Jmwz+C05C38yuhWuUvjMYbfO5lcJT4e2p5aJNTdy\n",
              "9AFOdyFK1vOVaxnTvPKuCj3ZMmzCotL7JIwJ2AAAAUpBmqxJqEFsmUwId//+qZYAAGq4v0BmHTgk\n",
              "+sZzNwACKwWAO0Spesl7Mi+feS6+nWl2QGRtc7UySIpFJP+pPkfmlY93eTYq/Ycxzszq9YIOllXZ\n",
              "zzsoznL0SGrUynq1kYx9NI0nsGtrjMDHIgBQUfE4Hrf/BPj0mDYB3ugELfFFwrU5NHKfHIThZtPy\n",
              "5Mfu5vQz2NfJa8EjBOiNswiwkP3KLb83ooc8Q54BexJ8E/DIqqHI3/iXD9D7xadzFoFqx38hc3y0\n",
              "gqi6DAwe8NvExMy1k3X5+WqODpWi12uL+CUV6NSxcoZ5RJ4Wpexfo8D5mflUV58bfkn7cPtxeTsq\n",
              "dBD+v40RYtLCRw/n4na2RZxFneqtvhWLdfYLi5OL8H50CemHf3Lo2Qj79IwXx/+GHQF9kYZdO78c\n",
              "udeQEl53Tj8upPo0m7VffxrGJuAAAACpQZ7KRRUsL/8AAHw9616S0sLmX6U81OpxtfAfBsbOLVMA\n",
              "vN8dbz5R1WRsP49MXh0TBzFMh4H+YYIXUMQGlSMwZMvomlVFb65xfjBPJOeCQLQIBWh8s+9l89Gh\n",
              "SyQqHRaNzcwaJZPADOZw15Rv7BdCb6wLSxnTqT2thlbg6vy+UdBHedw743AxMklQVeFnCY/b03P9\n",
              "Hlye6TFJWUWWIylx1xoIp2pAvCwBwQAAASgBnul0Qr8AAKylsUIcZsqiRykqX/zzTSBishkFMJD1\n",
              "yfi5Co8BF9VlF2cBdj7XVCa27/7hCe9YxGQex8IALzW8EL6/RtH99uUFP1z3M+36iFDLCL/dOkDu\n",
              "ZsgrMmCmwE934IWyn9t32ZuS2Zc0g9XC7NlBlAdIrfEXa7xFjDmeZn4Z+KPFYCzTX7fsZ+uDCZtH\n",
              "LBsEiU3Xr1qHEK9cDLALBm/30qWNnStSoqmX0r5oLRo7X6skjCKM1vMuTBq3At+nvm8O5+Spx4KP\n",
              "/7u2YmP9AZfpBzlm2n05wPGUZCN5cjmQ80RkYjo04h2Oqo5av8FKDrWeWCF2Mr/My/ti2MEvhyHs\n",
              "bSWu9T66PhKiQANJBln4IYQxpG+i5IKoaiJ8zXb/C+zVuZwNSAAAAVEBnutqQr8AAKzyU+PWAVXF\n",
              "y/VLABexvHZFGZAbQ9rhnhjW6n7D/sGL4I4XDUQOU7bpyIABwDhnIBO8lOe4qOjSiVDnnV9tdqJo\n",
              "3NrIs7QeIof0zVj2rZQnyoO7PQqNV0xHEwpv9lp9neY1jxDChG4AHzc2LJEJCYHE+GBPAml55lDY\n",
              "9hf/MF/ssfOKYSK37Jifs3iFPZSfNEFIjF0S6AsEcxMLwKFwtGQn6slODX49YEctHA/yp3yHL9Wi\n",
              "/wS64X+/zfPW6pOBBuknxerq8sixEr+0ZV0Y+Qicxl+ou1qfh/TZ/fZZzZN+4ecR2Ez4WhQcebw+\n",
              "+SS4eo4b8cvpPA232xQrs7F/ZFndzDoUycF5KejaIKdmydHZg4zh3dRwlmn/9L45fMOLHROBRFAZ\n",
              "T6w/cA79IMiRlnBz+hSD/FjPMXWHiZesCJ6jETKtUU4H6hQQAAABBEGa8EmoQWyZTAh3//6plgAA\n",
              "JSBo1EqFnpavr5snQnNMjnOdd4c34RhzUEf4aWRd1DAIQA4pyEkOrmErbWS63opXiSTePvDa7K5w\n",
              "MkxQNQ/pRzMuyQOGQ14teIYLdmeeJvICDREBbF2kWrUrdqVAKRqBTCPjgrrRYeGcXcNlLxqD0Nh6\n",
              "6lnTxagBAXEzmCWyH3RGaQirVOC6wG8fozjYlLu2WdNpzN3pBpqhnroCDpXSD6V8N3hCJuG2/3Ww\n",
              "5foEJ7LLzzrj6gth//4HlV255QrMj63E7hBHajRxhXxj7Y2gDFDFqxMzq3n9XUMIov8LEtboWK83\n",
              "WHCB72G/wucdrrIcx6bhAAAAr0GfDkUVLC//AAB4WvDI9pWQQX3cacpeJEl5l8IgpO91tRayAn0F\n",
              "ZymClTiS51tN/T6cwp57n/e0jgQznrpBflT23lHdJKaadjybygJJ9zsdf170P8ER+5RtKC/9ECOh\n",
              "K/H0XQjj7Ivmr72lCXzgV8AOg5tGUm9p01iALakP3l4ABm87fbbMlUdw3BpkwOPrzmVBA6CO2OxT\n",
              "bRYOXVRdEgrAEN7GCYTXSDcQotBlTcEAAAEnAZ8tdEK/AACmeb4Gv0eAD8VyVmhC6RzrDZHDT/z3\n",
              "M/0N7Hi4pw/w4xuzPquItZpB493uQ7J9NaD5tqRN63okKmaRYMwknBOxbI3ywXfoLdXAyp9m0qxg\n",
              "ZM+DtqiT/3K7kh4dV7Haoc2wTN3P+PeSWQV+qmc8f7SqBM5U0AX0ZZbm1gZ4lcFTjOAgHIBeeS2G\n",
              "wDdkkCtHepXkRjYaBnqMf/bHjxpVkxaiuH5Ug5N7pFroI2ndtoURvEVZAKqoWDfvhCdUnTA1h4at\n",
              "gUyimcjnyiGHmsaQnWMWfJUxqkTOagXsyWeU6TzH8I7+A+0VFyzxN/Lpc1BI8ybwS6G4GH4/WfJI\n",
              "8Msz0H/g8Nweqbu3JZWamIuE/qeaQI+OZ9O5eqlP9CQcoDabpwAAAMgBny9qQr8AAKzg5h1o6XYX\n",
              "4i1Nc6nAbT7Xby1p8JiyMfqjuCOXixlW/8NlR+WXbaXR7wAOsyUOQLh5Is8ZQZ7tBXqORf9ilqOM\n",
              "C4cSDzqvzXhA/Mw7erJ871P3ZTaGDNSofYqS5PosTVs1IgsrBnq0teBfM7roGBkm9Wjt5Mfd0hr1\n",
              "V/vSSmeiA3gw51IUdNPVnw3c43Ktlr0XUpFWqHYTikNLgkuVf/gY4BHazvUc8jLq+gSOWAV+N+pq\n",
              "3LGPiSUs5r8Do/tA/gAAAM5BmzRJqEFsmUwId//+qZYAAGegp3IMIyAFTQ3sttTZ4fWaThm8NJsh\n",
              "nGse1hxS8VfnE62oGV+NKfinp7p7PkoiYHg3TqD87dciRSdLaoFI6qKJ5xIranbB/YrzJyjkGq/p\n",
              "M7/V0CkMNqKily+6q4M4uHlYfmHXkyn/jVLO9sK5rsbnANwiuXecvmVnhPAqNSnvcI3+skaG4KNZ\n",
              "0yxfdyENTZzpcFoMpsR/B3M6/l0UfeccWUDiFcMiR11ErlWYI+nmEZDBFc7C/5PLl6ID/AAAAN9B\n",
              "n1JFFSwv/wAAeZL4eRvrantp0hyhUG1vAV1LbMn9dzO5YQi6Nk58GXmkRdN1dBO32evDzoR0l/RD\n",
              "iSA8tyLiNf70PI/Iw/afV3XvquePatL23nvJHbWFKEi1+X8zss7xsbgE0+UzjRehKrsLrNYcjN4v\n",
              "k1C9DJuTm8nDI11UXs+2PCCCdinJCAiD2NYRDUM0ayHHb1pqPJuMj4v6BYy8I6t1cOJLS0706Y0L\n",
              "Ald3HebKKwagRl0SJ6HUZ/YUyWNNt6dNUBl18Vo5o4lHv99KUYzO0GnOoGsQet3yxEHxAAAAbAGf\n",
              "cXRCvwAArF9mbAqmHxB2X+5wdZAqR21IzsGdNFY0pjjCsfNJo9HyhTNeireUfXel0lchQdLznpQQ\n",
              "mkmqK45z7HO2k0631Ww42RCs03OkWQWk09oHQ5MIMdt9W5GFjHYx5lHOHyZrJppPgAAAALsBn3Nq\n",
              "Qr8AAKhXuXjL4NMzSqpgz0YDAB/IBdGr5BUiST2VvC7SW27cqnqXgKkDHeHHS9LUMC85aX/6K/qs\n",
              "YPHM0+/koO3wKrVdUcChD5IXEc99DYLPKE7BFyUKHxCLN3mNxGYiHNnDzDHbuHY2ngk0wfwdLXGL\n",
              "zPBtoTQ3XeP9a1j8JyzRADyfEJF9ycFi69mhaxnTq5hz7IHF2vXDNFzEZFbpjWuRnEdD3C7uEg5D\n",
              "c9c+evScaOUY6tnhAAAAt0Gbd0moQWyZTAh3//6plgAAaodL3gYAH8CBcoLpV9517CWBjp3/tBK0\n",
              "7YtutxLrhvG6Kr0gFIcNDlLNpnbo7eMg7UYIkesvWisg8csgr1dP3A6vPegMxSK5z7qWPWGEo0KA\n",
              "QaKSCijPdea/E4rmyV0HTFBX8NS4aH0K6wL3W1JZnFdOV/vsh2FlOYK6EZKy17kXtOrgBGOqBQLJ\n",
              "Um4a6M6I5vYYBY70URHGaHOP0iTAImUfyzO3SQAAAJhBn5VFFSwr/wAArNbilm7I0ZikaQgA5oCw\n",
              "sa3E0YdOIRQRonP5URbGGDR46cE6kPqeSnGpBR75niVEF2dxiyf9qPaawesmO55PV10utNIqv4hh\n",
              "keS9VO+5MrnZ50Wac/zVcu7jZckxB3dAEgLdL3KaxumnptE1C1pYlxyFHY9GX4t7ey/Gc39nwPqX\n",
              "6VBIVXQKtFgcgLx7SQAAAKcBn7ZqQr8AAKzXpVHaNZlJ/2W9Bc+aoEORjyv0yODUrd4MZYyjbyI3\n",
              "QAXzPkrMWM/MKmZGjZ44pungKij9HRTOIkXgdBE1Lwer31D8sQ1we3zeBCSCK1LKVyHnJY9rCh8b\n",
              "NInQ2OzGu5EzGUaECtC0L3aU92Up8k/Q+0w82lMKQPT1lovq0K+d3ejsVIJRATwGGn6iegw7mi4f\n",
              "AwCIdC9TzLPoPFuCLwAAAVxBm7tJqEFsmUwId//+qZYAACUy4skL27xWx2SQkqxR4beU/laJXFtI\n",
              "H+2x0SHYlgAAxagCAC6HVSbKuxFw7kUrCrBpN3iFNvp3X0CGtNFnfWE3dnTlzJrxPuWKtdrd6qWf\n",
              "9x0waa6AX1eAODuNCGB0bMv3TJmlH87q4z6R6scy7RdE+hnPea2PXWKCn8BnuL3D+3L2C2GUv8EA\n",
              "cB2GPfqSz4POmq8iB4qYiIkOdlHbvwM+0+pqEpsMwVMypJKgUpUEPhfFmTRnuVbSTtbFmTaHyNiS\n",
              "Fpxu5coKZoYgPVObzKFdZ2q+uoF/Ja6BTNYoAABI/iPf5SUm02eiISMBl/kjfvcy8qhEr+r19PZa\n",
              "NKdqZo9GzcZbRu7gHm7Dkd/+FR/m3cCdUwslKMehADqbw5oOICG1Lbp6n1cCH4a9bEX3abm0n4yw\n",
              "f85K5edZKhfMX2oNhCwxVDgtiVGM2z8AAAC+QZ/ZRRUsL/8AAHxiLpXTNhYORMUFYkAirEl5l8I9\n",
              "WcXZ8sAG+CsPsRFseSR9JV4b5nKRZ8U1RGgOH7sOZj91DbmrvgBQCC6KMfjqqRpcJN7iJj7sWdV/\n",
              "DCnUkBeicTOhrgRUYS3kx8cyODh4Lm5vzzu6wDkvxmoCxonylJy76VduQCjH9m9aHuQyVMvFObuv\n",
              "qw4tqbMADHe8ewF1NpL6MvtfTGDVMwTIdLOlkf88zfSrT7ktUiavj+3ZraQSsAAAAMMBn/h0Qr8A\n",
              "AKymDe1JDm09FvLI8P8xZzwKlPHQAjI6r6svgCwWdPsvcceiNb706+ZGpN5M3ocRezjjnmWeAtnA\n",
              "BCiddsno0cXzzuYZoH0rZm9jGNW8PjJ3JO8TL3ICJUyhL9nOy5r+DbLcUJCLCYCEvLFP9LiEZaFn\n",
              "O+9tA0GVshkKxXYrGfJByGt1cxJYfQ0xi/v1Xe98vEAy/al5qwpZ174f7oft1VV+SQ/n9S8GHQ/p\n",
              "CwrM5Yk+tJeuXelucxREO6EAAADeAZ/6akK/AACs17Z+iHHkTaUD9chWAA64YdkUZkWjuy6Qz8y3\n",
              "AoX10PgrF62VSAsj7LxfOIWg16uWNM9Snj4Sr/dMwKOOkjyeTdUFElOTJ4OFwE23W4nZJuGO97mr\n",
              "owMzBJoIxkGSJF8gLaVfJJWz33IprVra1QtFzbVjf/uJpWwumaU8vz90B8MAoMD2BpzuHta0nT8H\n",
              "a51E8LFF56JxHOInbfjpTJ8N6A/7rbuMVNd1W9DcsRdpYe2S2XNwVybAkUxP+Dl6eT/85lFE3oOJ\n",
              "wFaOZBjqjD0HqQnYZGWYAAAA5EGb/0moQWyZTAh3//6plgAADfcX59n0AzpNnc0AK4SsLYiEgmx/\n",
              "XcTRKbJ6I4n6xb719AuXU4zvDj1aSBYCzZ7yYG7Xiz1smytl+OQ6+R9050eZE9eu1l2qh4kJHyPp\n",
              "3dtz4d9Gc8w+4/flOxKW5sRz2djF7QSYfYYLl18yI+r2NqMDG1pI/Yp+XkxCmHNt9OW4XNNCBe6+\n",
              "68YMM/oCp9LiAdvc+WnxPx5CrazOoxOxohKsiTqVkrG1387DQyWi7Kz/FfaooRc4Y0mAhWGXQIiM\n",
              "lrV3a9zWyphzkqcZhwlcv4y26QAAARtBnh1FFSwv/wAAfGIMS/BR8wAA2MVGOtnekdDg2R/ebue5\n",
              "n/QVgwXK0IxcsZv/0md6Ui9EbZcxLQk/d6KTCKomAu8dc0sSd7VTMoAn9kbQ858/R1diZu67bAX5\n",
              "w/NpPqdEItZsN/sHwoDxKe+OgDgVSyYoO9YLugPyIXS6jVvYa8/REoT+019TGXytDLWm8PE6vvtk\n",
              "MG5tiAeHW58rzhj597dPeZwebMt/9KAEcVYgFIB8Qfr98tTtslfFxfWZMtLs12FGcO9ECzaKMmot\n",
              "IdL59QSdTHXC8/P2ZAwRLwacfi2ucKVZYJE8XAhKvW5B25OZ/Gq37uWmJ4MDiMHN9+kxGEw+rkp8\n",
              "AnNJq3h5hbgHPqJkfagEHtCxIXZvAAAAwQGePHRCvwAArKXacplpUQqdgCJqy3/yKOloSgUn2TGv\n",
              "AnoSkQPyuKuoNCCBfEaqynXu7NB79VBP0UDQU7s1dUKawIq8c/aRMzaCzSvTYkBJqkTCD2zQ5VED\n",
              "Dc9905u9Sh6qnOqjnUxdu+2k53tFKMwC+21JrJIWPbMBS+yn7JF/zLZU6KAX+DVQuYdpR+hNlQLQ\n",
              "6PsXf6LCiBMBDEFKjjZcNVYsTXC44t/t/uv55JkauHn1BELhGOU/hkrgTu3yBVgAAACSAZ4+akK/\n",
              "AACs1uKWbsjRnu8ocw3RgucREFdOUT8WT+Vms6Y/aF8T8B2OAV2JwHjYCI6Gi4PKtctY+YObs8kQ\n",
              "ysug7XwZeCSAC2fR/AQpayir1WaDOlxeyjgML9law71jZUy1ue1DWOsjnJPiZAMJeIzZjsKaV7a2\n",
              "hBG9IeeSunDiK7Suq29FFcDa/PDR0gwHAbgAAAEUQZojSahBbJlMCHf//qmWAAAlCLF8Z5u1Ci+k\n",
              "DXh+J9+gpibj7D7elHEAEWheqcJuoFbqoG+CeRw8vlnNmQ0k8hOuDKYi3irjIBqbvCf7YTOrAByN\n",
              "6OSY+xB80onGf4Nhe79Cf4ikIs201+7tJy+KozGSyDH2SeI6yB/aZ/ZS4MuKpsLOtweprZbFqPdF\n",
              "8FCFC4cb6CV6FefcXnu4L2WV3VJJl174txtEnVv9r68g61YZfurweo0C/AzuhvqcIsT/BnFQBR0/\n",
              "HQY4onbDrtB5F+RUM53XySl3LXVSikRRhVG7vlyppx7grvHjyd2vHn6IK97MtP//whp9rgG1m5Hb\n",
              "TIyu3f4CRobcu4PbFE2GGqlG9wuJAAAAiEGeQUUVLC//AAB5oilxJhpt+2tCiQ8DAAAzrUgExF34\n",
              "b5AwWgq8bRj0AxlTOqmCSeX/FNmW+ggfvxu3oBHov5W52XZceWTL2+Bh7det93Q4j4cRwr6tO/AV\n",
              "pQ47OXrfFY9CUJlKy8tSt5qha1zMLQpXSJrQWoGjb4bHTWYU7M6H8gT0gA0+58AAAACFAZ5gdEK/\n",
              "AACq2Yzb6IQEJvN4oAOUzloNTTkWG4u5rfVm0mXx5Z/6q+fr7mjm6+jZ7/n/Tb3PR18P61xyYEZF\n",
              "lqqkDbNg6SKjPnto0Cqr5ccukUWIouJrTJ4Uq/pewT/pZcuEigohYAIig3T88NCI3SpplzVerYLd\n",
              "0QNub7ZZE8uRLM8bMQAAAKYBnmJqQr8AAKrZjiewI4Oe3m8UAHKZy0GpqhyccSFu974NRdw1ciRz\n",
              "mucMRzHjoinQy0UzZa9WAICPg/E4BQt6BCiqGiePvl0w/XFDzh///0nclRxV1XrblEYVVwssaouU\n",
              "ESPgRDBRgo4BGRThJTn/AOZdfKwaYUOxYu3snP0zPttUxpH59ZmKynf3JAMrTKycGHHa16+2+Zm0\n",
              "Lg2YDhnQiiC/LTVCAAABU0GaZkmoQWyZTAh3//6plgAAaD4DcOs/MK/oAJZ/Aicu2LuecRq5F2V3\n",
              "obbCwovcA8BKjvJGGJG9LB7flaEjMsuc2qmntGTVJmG4vocCZ2X/w2C6g60M2i5VWz/YhW6t8n8w\n",
              "mC+dqQU+TMjyY6KFc1F7aq/ugJe6Dxt40GTi7GdsHe3OTBDdsKzOxe1l5cE5ztk8NFkAFBmPy9i9\n",
              "Qbs5Zd1wplYDBpJGM0mpRB6HfkVP7VqRnuiVZxaB8NvXFiQOsbfnj+AysF3IQimf0vMRBLKdSNyQ\n",
              "RYeRN9gcYBXqCFizPl5h909ZyrVHEeH9n7RryBhRJOEWxDhQ6tW+0PJ2oMHUmgbS40lBjVpSOZlf\n",
              "h3YMe95TV0qw5zB2h2ml16bFmSo7ByXvOAghts77Bzxd9B4zTwyjWIH9fdTU5KrvP5I0imJB9u+P\n",
              "EyhZhm9gWT+glbBNwQAAAIJBnoRFFSwr/wAAqtmNaGtyDNkwAfmWQtBRUHoKgHLeF34OsdYFQDZG\n",
              "0//+/wHjUmm+FNujezj5WLpeLLDHcxr+XPhTdrUBObvca8z6qatvG/9Vh0tc+h40fHTHtkI6ljAC\n",
              "QCmR6M6kZ7j0PvhrmBVSXLCvqJZkgPGzSPDbZOJsLAJHAAAAqgGepWpCvwAArNfHOvrWl1pYud/g\n",
              "j74JcFlDmmJrjGTZwfrvauiugnb6fXQAcgg5o8kjw0mrluF4JtfyGVGkST/A73uvWVXV6f5LxkZh\n",
              "GQfqqhvf3QEsXWotA/39mu3RgmOyyOrwNiBrrjWzHx/b0/tyqqbeW8Ft4g80wivlzQ+z1//RFw1v\n",
              "JjpWD7GLFg+A7adkhOeGM5ROHiE+tB814ppZ8vH3F6LAAL2BAAABf0GaqkmoQWyZTAh3//6plgAA\n",
              "aD12EHbAA6x2XCOrdoVmRzS+GLsz1YSwS7SOsQO8IFLPeU4kcsq+fnb0PNcZ0I2oFXYvlHTutvwZ\n",
              "p3zwVtzKzeEJ82sh8N7Na8t/5YQ+tOWfY9AAAy/7WyhCLHn4nRmCoOMqraaH8bpJqk6Di5j+MSjJ\n",
              "cQWMND/fyH+3bAPi2JcZrQCukQX6ARxZYJS5iXXMjV128LwdfSVYf3us3lsL5Be46OMFvPDKNoGy\n",
              "UhYItK7DbPNO3FO3SKwTVV8GPqaABDvtpg9Dvsj7HOyRA/fMXQTDpCSt5rc84VIOoSpeQIR3fX9j\n",
              "P9HBbe7LCYTTaoz9VwKKj07V2RkDFZAxhS0lzojppQJD+KT8fJzdH4SzO+yuTBOTmbYRVCvZBwOY\n",
              "XE2N+E+k5H47hg1bEJtYxgTQKOHUpXDf+tPS3Dhpz6/aQPS3k4UeH28bZx03WttpGWSnpw0Dxu2f\n",
              "hJqJfJrKQhBou7GBf+KZ65w06ru3csG1AAAA2kGeyEUVLC//AAB8YiSEE+JmdB5ZGerJ2TdFQLQN\n",
              "MvhIxeZh64AnInjoSmAE0Jyb1DQ9ouMRird8hitxsT7asSK48DO1IrGlcOUYbFiJnzyYaXJJqERv\n",
              "irRbqJldEthKmvZrhR2eaRNsuwIG4FIFbPq0HwfTuxpYO/fq6nmRAZQMLblWwRoj/ui7KadYDeOA\n",
              "UkzLj9dM9bUQmAiz1LaKbcV972RMIeZ6TiZfyLa5XsevdGKBKhnOzeYjYJGNFrLe/INkDdgR4teB\n",
              "NnJFAUfvzLNOv4cr7Lhkc0V/AAAAqgGe53RCvwAArOLYr5Aep0AJl1R2ICF0jnWGyOGn/nuZ/ob2\n",
              "PFxTiAYvnnM0vG5/Ty/0ctKs5QF6110tW+cVxCCxWZO1beZsIn0SsMdYfriwcsCbi5+nd2tKP+FY\n",
              "EQcZYOyqwGoBI6eva8prG/hgV2Xk2NxvWEJzsGLd99K7SwDJ3Rf/DoeU+rSrjeB53QCczSFkX4Sm\n",
              "JbDjuqDvKBtZV5njIed5AHKGY+XgAAAAowGe6WpCvwAArLSOdr4ImRm2FpOfWNVEJjx8ojEFeNCy\n",
              "XkeKXdiIwR5gmQJtSIAM42uwA49oqknEp7ROq4pYsz8/YnHzMJ68SQT9V1his7XZ9J7Ci9bzraCw\n",
              "VkHvDppnaLvuvLreM7z1rD+wF+x/zb4JXDUfkZaS1b7bMEE06CagfcOqTwWSfVVSveMQLv0caH9b\n",
              "hq5gy8UWUar/sFiVmvGnR6UAAADWQZruSahBbJlMCHf//qmWAABqvbLWYcGJqGo4Y6zEE8k/PcB7\n",
              "WyGBYXFx9wIGv1jMJB8V8/ICvGdpZQAUYDp188upX8Cx8j1z8A9sBrnTGidHm+QtcT/x0rh0jRRA\n",
              "JGMarUGcEDAmf6HtcAoYxHaklG9KFiLu0oo//6mwRMJ7VJedK+TGQnuukClR1eqU5TuD/fwhxbU5\n",
              "j8zfDVtrB6M1cHB5IrUDJQCxWeX7br8E0C7P4/uhtkC6WNewdraPnbEe9Iw9T7lfzDyOpizsIrpd\n",
              "doPmdlwm4AAAAHBBnwxFFSwv/wAAfFLvwoeU3nsCnFy+kqdwC1HFeeEPeeLOsz59S4ErA6GUTACY\n",
              "7jYdhTJD1nU4/uRf/oX+cIroGR5fuLuEq0othHoBU7Bk0iUdPf9U2Pbaga9Atj9HVHIxkv/D8Liw\n",
              "f2DcweFi9geYAAAAXgGfK3RCvwAArMXOvwBgAtiZIV/k5TYLy9yQptBtcrvYjVPi9lFQrlwwN9v+\n",
              "hagboM77JfeJWjUlad8VZnpcgqzDGL6DejR77y90VF8ksIBuWN7eN1WmFgQeyqFVxpkAAAEJAZ8t\n",
              "akK/AACstG7c2wAWxMj655MPjWUB4wDK1ptOvDaT5hemekgUN3FDDBtefXBOpD6nkpxqbmEzMM6a\n",
              "yhZLyS3XNPm1UKwZx3PJ6uul8yiSCn7A3+s1GS4PDoPoLTs89RfOx+MehBPzSRBHx0hibvTX32ew\n",
              "7qeuBpfMdo0jD1wSGZEe/j7ffwUR3wkZ2ksiRvl9j0TjA5T4K0xPHMC+T+bStYDdUtBF0v995wdu\n",
              "TBBGjMKT58b2pHEtHRmjlS4JVN0kCcgPcIFCQDQjLuF7v/RGkKGJnIV4qO5481JloByymCwYdpCM\n",
              "WRL2Hoocc3IWHXDHrSI+lPctK0MMlW/5po5AbawzGkgAOQAAAN9BmzJJqEFsmUwId//+qZYAACYt\n",
              "E+zRkAHKk5bu9go/27IhkiRcQ2TncDa+8n9ovfOAXGegLmQk0Xa4TV6WyiKXv4p9Z6CRvrBTaS58\n",
              "/pfIqmiDtLZ37C2a1Vdnz9vo2danXJRQ19J8ELMtJrVtOUWxGcEnthynlbYbuXFJvAo7toB/o36Z\n",
              "yl/vHeVfVw026oRdJIwgAAUP1xBuIV70uaxDfBMrBjMvSqtAswEgL/pIGlJMrelmXKVoujNeWKAc\n",
              "FyIPhHGsp28qKCVVW26Ik4DYsxa7QDTTqfka4PzeOQbhAAAAikGfUEUVLC//AAB8YgowryYcAAJU\n",
              "g2JCGsmFZP/a3bppR//qx2tZ+cE/dRyC198Ua/E39g9ZPu3xTztAHmlp/WKrgivGm6FdXXoV42II\n",
              "HhrpN2MaSts9U/V9F5XGZOOLzJVEGwEmkm8ZTGK8wPpgPtYfK8feG42lZCNH+JiZN6UgrYE8CfR8\n",
              "TvXCqgAAAOYBn290Qr8AAKylsUIb4sgZ+kT+zQtE/ot8bLuzDjbs6G293B4yBwxSdQa31dpcZBJk\n",
              "jEPxoAL5nyVmLGfmPyEdmD5kj6XHBIeqa+KUaGNWJ8vWyn/qGxpxvVLNRKbrWW0mFpizdVcY5xfq\n",
              "lozAk/DUz2Zdm7Y4xT1Eu+t6qqNE6u1fPP55Jrq2msl5QxNCkASs0JfTr0rbpvIBlpu2GrxB4irY\n",
              "hD4s7lct6hN/bDAh5AFQzuiDBXbCdtIRLIa7XuT5sM71yCDU9TgMIVm8Hyhwb1tTC5JqNpcGAiTp\n",
              "YrH5ipVWadS6cAAAAQcBn3FqQr8AAKzXnrWRSqtg1hgF8RuNnKH+XsmDPWqMAH8gF0avkFSJJPbM\n",
              "7uuS23blU9Mex0hwbeb9S9LUMC85aX+4qjziMP7mavfyUMByW4qQNBOVXA7iqfn95u6SuQ2duAs5\n",
              "h8IsrqEkuVz31YQp6fyMIz9p1VCpHJshZsbcjfqB803XTqvF56xXSmDDtNSY0td25lBq3gV1lWzs\n",
              "qED92ljU55SYii6uSPGLwSyqOVdSkCKRho8To4j8wOm39Anmb8GkkSa9Q4/zLhbyaDLthM8OS8bW\n",
              "lpjz/FIwivvzBKHWnCI1cyDYmRlqygAalg9ns0ntQitVnyorH3rqqvq0xy4nccbDLwAAATdBm3VJ\n",
              "qEFsmUwId//+qZYAAGeuaK4PGKFZJ1XHYHs1qopVfEYAMujRQzHDoZnfkXc2af/knzWo5mI1LV1a\n",
              "U60Q62llvBSNe50HAVClSRwn/aEL3foVGAMr2nqoJ8TxJ7vKXXt0phMPXBBW5gtMrOLJbJuE5Pgc\n",
              "SJV7QTI1W/nBZhUpEo+8L4GskICP4IlWd/t0ESaL3iS+k+7Popg7kil/lfvjpKLJcpgEe1i//poo\n",
              "3gURp7ztj84ikfETIEJD11EdcPW2TfdaxzLt3EycNPunHgLQMxK3lFrZ9+pyFH2poSmwh9H4mqop\n",
              "QYJsSQ4ccCeocTjJpLdXn5hQMhybotJB2gOCqyRBnq+60GO0iQzp2fYiNEF+73Hthwv/Gz1ZOuKG\n",
              "XlQCBn/RFv8ypwwRbGvTbDRJ6UQGVAAAAH5Bn5NFFSwr/wAAqDRPIDC83Ka/vQAmULFibdCTvcvH\n",
              "ZIiyZqAuY14BEnI8Z+c3gl28RiMxUjatgE+5imn1Mm/KsAtxc8EjD6MgYxsu3QJGX14gguR+pZ0k\n",
              "tDKEvnpJBQPT/s4J3kAzppY9Hr5Mw4V1e7Zww8ujlWexc1VHApIAAAFGAZ+0akK/AACoclPrAJzm\n",
              "75hX7q2MklUOqZc+ADtd61TGKHm5Xg3jkskiYmtR1VZwPexJSvgTKWRfHVHUhg5MnIZbHN8u5wv8\n",
              "ath+lo9DxYmUExre3rH2KIWMNFkmKRiEHR87iGAaQBmNbHsB6svWEwVXjj/lFWKtG+OxxyE6/Z3r\n",
              "cJmnEpYAe7QxkPoGu7tiTEZ6rslN5fDfTQBs3686DUiQRLtAD5r6zAm6Cg5pkMWizGTiOScFLeTC\n",
              "59klw4Zcaglu5GAOvCr9IWEt89robm5Jv7Q1Rovhe2eNuHNwXL+OKit7lUwUSUELab1ZQvoNIhaw\n",
              "J0BPDwyc56UT1hLuIDQNOvQDhPSnZXzuydOXLBBv1DfsJmcY6FxvJh5Evlj/h5Oe/yy46wMaOZLW\n",
              "6LgBvqj7ttmpAoVoxNBF/f0WmpRCVVIVO6UAAAC7QZu4SahBbJlMCHf//qmWAABqIKrhbc04/JDN\n",
              "/L4MwAdYBV/II6l8bpjCNkmmUSFsUzOUTnVYWkQETVONL30m+mYFP3iS8EF8fOizM9yZYthiu9/a\n",
              "ILLO6Yvsf9Pe55F21YMCMzYqzq2wLZOmpn++MvZcavoYvfXMc4+G/64AmMO0bVF0KtioFpBnXerM\n",
              "rJQUCda/i30OeYdBnpqtBU+kmRAogGjkuTUzqHx4X2lNk7IPY1l20Alkh18BLwAAAQdBn9ZFFSwr\n",
              "/wAArNe5Ub6/fD5o6LAazYxWBzS604GXEphMdN+b3LAXYhmDhX2GDYcMQXrRiT8DD+F/XnEe4XoB\n",
              "bZ7q9QOdgP6Df+S8ufuA7adoSC/wO8oTkp/uv30E30d5SAGdC6o/VBH4/Q+/b5kCtOuvHapSL0Gs\n",
              "eclCvNwmSgf8v44MFLKwzNsLzdRZ7gnLx7eVLm5BM9LtVT2gT4ObPkUVOU2/EXcZOvnv+aK8Gw1h\n",
              "Hqy8/qNps9dt3M7W0nZGb6+QlpirIZk6gx826RQ5+l9zFPtpaOhIaBIRsJimND6rkrCAwY1hsRl0\n",
              "lU1BO6yKw3buF5ovfg3nPbSmaUOAIovrxSCkgQAAAHQBn/dqQr8AAKzXut7AAXrqjsT9KwCDneH+\n",
              "0HSzYtf3ev9C8OG8SCC5G2InumP8tIsqLP5pTwCUTWIh2YTev9OMaKtJFqQ49DwKYv2ansYjpdI1\n",
              "+JEWhKBfx0di5bX9/zhRN2F0PoIpTUhbCaIpyob/ELDlLwAAAQ5Bm/tJqEFsmUwId//+qZYAAGeu\n",
              "aK4IW2ojdx8yGdrign50q8JjelMZ7WfiihLzRL5J3l15dhptB1/peen8inac9gDNB8HgM6K7He0N\n",
              "yv2y1CB3UDeEHYugF9XgDg7jQhgdGzL90yZpR/O6uM+kgPcyClqIVeKFVPOwhdx06oEYwgtuCoD7\n",
              "fY+9hM5LLMlCTFblZ8+F8rrjvEbscFXbO4KOwzXH5OWK+r641EFe5fDG2jxHJCUEIcrzvU4s8ONu\n",
              "lyZp8xE+E3k+VVF37piaT83vSxEMIiL1WYecI3twKXbGiaTgmYFE+QT6LwQOHMQeuiCJeRTQVXx3\n",
              "Q1sycqBlcqb4vDtvShejk5xDjVdi4yoAAABmQZ4ZRRUsK/8AAKg0TzrlG5jp6fNaHR2oe2nxq08C\n",
              "Eq/YSDFcKOE+skzD64TLNbo8hPupau+n7tT+CtIyr/CIiuwfeVg/9ipaf5TOgBJVFixpmvEbLRyt\n",
              "M+bE+hYxXgpZEFOYAK+BAAAAdgGeOmpCvwAAqtmOxBogm2nx3L3DOWMLl74yAkTGEA0rNxFnatcf\n",
              "+moDOdK0xmbJCzjsWhLTDInTRABbixHM0VBOf3m2AGIN1AiobtCFR5GMJKaBKnz4hmAzWsopo1f0\n",
              "0CcE0oRzknyHFZmWOmivcLgB7DgBh6QAAAEqQZo/SahBbJlMCG///qeEAADT8J5msEF2ipJ/XIyR\n",
              "zO4JtXYz2sAXBT2IZskAGjRjyii0Hz6DBtRdVZJAfXSPrBpjPD8hlYy70xiabz8c79KIL5xGLCeO\n",
              "tTNSElcluKsY1J3KSodFkwuQ8p9yFWc9dWULGs67Q52GQXXz0D6vYpKlyDR86KKT49D3f8qclbER\n",
              "e9bPOtbTVQY+ilZRMI7KdtaQwz6b8+f/Abxt2sSggNVO6b8GVfVRrrlYieY/Z3EibTOLRL3bPjtr\n",
              "hmUc62YBuWpqzrYAyV65iDrSen8xYjs6zjcmm2k9Ub0zM131K1aWK884P/zC+lC/59QuaTQ7JRKg\n",
              "Rg0uE3K3CNglTDDnZR2xh+olFPTnIQ/rhcNm9BFz3J8azjuEsI+uMQAAAEpBnl1FFSwv/wAAfD4C\n",
              "1w3b2HgYn4L0sls4+49bZ/c/28grPxQlrvIchbH8+FE0hyM+rIwFQMLvIbpANRQgokOABD57Gv4q\n",
              "OjAbgQAAAKUBnnx0Qr8AAKylsUIpqcQCdDngy95DyAPmlrHKizznYfh8vo1GzQ0qU223rcoViJM/\n",
              "ae8AE7eYqfkJQeiJvBaML4cMctbq8uA3BuHNcGxVdMYGlhbRclISNK6QQcwqB6Ed60/y9rf2vstA\n",
              "PkD6vWJurMDtV4yVFsYkhVG+MEKJe8qYAiPEgF3Q3JbLQ8MHPZv05H53tQC1f/kXK6Yi8A1dAmTH\n",
              "ASQAAAEeAZ5+akK/AACs8kzPkuePnAAdZVbhI7tclPhpq/xHBhg2vE9MHqE85tO41IKXqc8UtJOA\n",
              "UgtY+UCVe66pE3PY47lGavoTyLCnPy6EuXL+2p6dGLZLEZoUlRdOdju8w0qBtnbR3xJnN+GbQVPl\n",
              "sX6Sa2CsQ2Tu7Qs8PY+BtmRa4hti4u4SBtI+oL6I+fiOM6tZnXS99cdt+iG/h80X+ett0b0epWk+\n",
              "JaDUi9uXfjfO1M+cEDfrsCYPQGzcUHZNOShwaT5E6Zy1/AKJ8cunffPyqEbsOWCxDLog8zQcBoZ9\n",
              "0yjDSxY8aXdvwGn7JN8XqM/tD300WIrt+O00XhS1N+v5wNOtasgw/BBXsKjHYdA/4OxKTlpJqR3C\n",
              "tyvQo26HgAAAAaxBmmJJqEFsmUwIb//+p4QAANLgV+cgOP6/r3E90wQzXcqKBy8mAAlyCjevV2Uf\n",
              "71zNBlEQEZ6it5JAjofHjp+8Eoj7c0if85Si1YKd6vVdkV3aRnuA0IBWITyswyfLmq69H8OsKCM/\n",
              "zrOZVFWRPIZKvUHIOe35RKRRoXLJsulYgtvfrJYoycg1yjOYZQXyBiv3dqrqRvZ086NPB4alWNoT\n",
              "FJetc2uQWlnJocWUUAmvVlFEFEzTkAtM58pki0HS5IFnF3r/vT5t8yRcaexlEdjBkXwh8eZBJQPY\n",
              "m+RxZx3qzTrrv900sj02Uet2UqMdRKq+ksCv41GVgU861rdh1WzP18KUu9L4sy33VrI9E162spW7\n",
              "EalCSrTVrKwC9tu2ePaSVr5XGAexZUIPuO/Q8R9lYfa5f+V6i4ktSrCrPDb5skYxeUkHx9WDSfhN\n",
              "03LN0akb53SuIjr3u3gAC0bl7/t98KtEiREYIixQhnUQg7D3U8wlSpEyb6DUm6p3wUAspIJp6vWd\n",
              "sfn+9Y2cXKz4EZ5l+c/lCTaZ1mWwV6/1KqNw0Z6tvGLNdcOcTBcpuQAAAGBBnoBFFSwr/wAArNfH\n",
              "PR+KWx/DvLc8om3VKCqMURzIJlhWQY1ms3ai0nTpsz2mJA3gSVoyFm0q/QAq16066FkU4BfkOKxW\n",
              "axHjupFoSeF3pnnTdnJBe0Jd2xywLwWWw44AAADCAZ6hakK/AACs17lRx75nSRpzopOg2nmArD4A\n",
              "NhaxJfgBJy52hBWh4GGGwGLCb3GwC+spy62yEyaGAPBK3ja/SXZ2tAJvErH7nBC5Pw4JXsrEBmDm\n",
              "jh10tm6nXyx0MhBXeN+TleOXwtqADdUYC8HkrmoSPqT42iBNK1Dm1FX7/Bgg844BIvaj3VUFZx3J\n",
              "0aQ74XNQy1JS8e6tjXtBjKRjfWljIRrAyQDiXi2A2eY+S1EkDF9drOGBNqaS2gwTLNWCfTEAAACw\n",
              "QZqkSahBbJlMFEw3//6nhAAA0/CeaEUCSDXFy/8f7Liuz3VZdc/XIvyPs09ZCsF3JgdRPGujWeRU\n",
              "zItC43XmAfI1DsiRcbhTRqHnJOqqvLUBpbYArJWQqX1Zt63/ftavGXlnI5Rhge6wWV4yFi7KRgn9\n",
              "DuDzpvjmKznIL/NMejOKp896Fifl2Za+Dh52JyV2WNkoaQquBbF1ShHQMd6myl9eyvG8b3e2LVzD\n",
              "xipTF4AAAADxAZ7DakK/AACstI52u0GLZFjKyFtjQy0AG7B9exF2uEOv9xRafVdXpZjN/6aobdEu\n",
              "oSIkFdscPP20cKF5gg0C8NwgpI7RZSH2PoFDceoibCJIZI+TMixWmhSnSZGeAnPyWAELtYX2Hixn\n",
              "Sxw/iEHs41M8W1Jb0i3QbI+0KQ06pJe1tPvbAM5IIJBtcSMzehleLntwpn0cMUPEFbKrA5T/bgFf\n",
              "OGVWGZjot/qCxDeIYniCvC1I86MIdffab684Kemy7itk6NvI6FnNz9e7YJqKgkJN8gzDIRu/RMB9\n",
              "+BVdRGk1jPNkaV/PlMkSduD3GirnwQAAAIVBmsVJ4QpSZTAh3/6plgAAZ7HInaDlha+WHEGtS+Jz\n",
              "Kev/6kv7ZbP3m9DulydeC1m14LKcDpmaNn3CGeWJbqmo8wSvyovd/mVX3S0H+BmljSPiUiGNmemW\n",
              "cBxQJ1THzbmPvO2/CJ0ZmlS8tKbio/xuLZ71dQwH1+fK957KNGdxqLQOAFnBAAABLUGa6EnhDomU\n",
              "wId//qmWAAAN97aBUNMYu1049D1pA/hjlGSYKmIynmsNUAAIYCEnRWaaujafJqggFW7dRkRweF6N\n",
              "6EcWCFmRhyb5hgggBDK6u/xt5ZhEJEkV1+J0qArATc/HhIcOpeN2SUSL4ubP/y4B9+cG3qVKuszN\n",
              "Xz6hJ5lV4pjtcq//AfRta60YO1Bxa7KdpKiQA9XOP/4QxUOsIeG8pWySeHmiUwGL2+eE4w2b2qWP\n",
              "4HcSxKJRcT1yLPWStzOjbpYWD5fSFiX9IXGEYShAPlcYsrkOxE2lGnOnsjkUY8IwgaNw/8QwqOpQ\n",
              "+wgK8gfjywYEnsEkI9hKFA1CJIpkw3DsfRhAHRiPE/MxRSOw+4pAwsyadnJFu3PQmVUrBCDrnGu3\n",
              "m2mNynNIqkEAAADsQZ8GRRE8K/8AAD4vvyOmAC9FUrhG3MqE3NnwWAQp/qgcmhKKerB6VMUWku++\n",
              "rBbXLolYNV47vTk/v+m423diFuza9P+ILmrD2O9z2DfJrqpuOR5nE4d5lfn+ctPE8HOlsBZV5R7O\n",
              "l/MHQ7cHQyCOYahj505y9rT7QOOVV1sukwr/xW9V/4Gzx0Nl0+EZBIoBQ/3R9aZM6JonQeveUyX2\n",
              "PuVitqcif25AJUl4aCzNQAnKEJTwWbV74VHjalBcxGsMM9c2eYb/LZShd9ard8H7zP1w3H60LaI7\n",
              "qoc0qYPXF6kbQHokMnzzPx4CvfkAAACWAZ8nakK/AACsYokuOpoxryW7gA4SEKv3oGN9X0oRyBdY\n",
              "X0BR7HNKF7PBzKkgssQN67Kpih2SHksM3z5AvTE8ZBTeE28nUlvuIP8rmqw1GXFf917aU1EtdxEf\n",
              "oN3Qk4EVQCywAhdqw4rQqLyUEIB4IyDEb7uXEcRWBu8UhugulFq1mhWz38pwZY1J164jkj4FSKLg\n",
              "olvQAAABN0GbLEmoQWiZTAhv//6nhAAA0wDZUqqqhRlc3p71hQHqWDs7KgADxBbZhSntH8fmJ0Wh\n",
              "t6jsBjOfvWJDKqZbia/zq5nF/q9lVgpqX99TDuK7vWhe5tlvEA/mNDEGtoyiI91mdUiy7GOEywRI\n",
              "+iljBMGJ127bbPg6P76pSG39sBQm0udADmVmwfkSe/MyTkSm37wGxP6Uw/7SVmn+HomJDFGi2hMe\n",
              "SfYtUO0PJXatRbnvgWP/gZGONcxQPUdwZo7lmc6tQUDhe79SkxYw0LDDepQClV9k7sZOgSOjnXpi\n",
              "R9QdMmd/LUMtpf7yDLiKd8wdyQX6nCsldHKTWsGL0fBWLd8FbY2yr0s4g6MVAJiFeEN12TlMX8ae\n",
              "HhbzmqOfXgYdtRk3batvwA3s2qxvIkey6uyrrYVAeHpAAAABDUGfSkURLC//AAB8PjlNi3KaAsyg\n",
              "AOScxlO94K89yH1l184MHzPq74o3/vev+CBMfGHZBgFXUmMghs+FrrZK5TyvZKOpoO1JpXQ8L51W\n",
              "BBmeRVo+wjxiC+5Ss52t3sIpNYRqoYVpTIaNZqshminX1fdgR74/dvFlHcmuPj4LvIJvomXLoMp1\n",
              "UHzjXKN3e+cVE1fSWLATmtXW8aec13vlftHD2hAeGkB+krNS8Z0xoTwjJ75xYoM+QjHde7MLoG06\n",
              "jbOsngqmDjyihZAWhCuKW6v8AyPG0CpxuATAqC4q0Da0N1FF47LYqiG6h4xmwu6a6bAhAVPOg1ZO\n",
              "E3TmHLPatwrIJ8mEgdRQnbyXc3mBAAAAmgGfaXRCvwAArOSTA/EyBSieksfBYG1gAOzestXYxCUZ\n",
              "n0hXFfR7SVitWBR/gESEfAUwC3TOTMzcbb1Oh9ZtXn/EIpyyK/XGeYfBd7PbNRKgUZ4tpC8ly5c5\n",
              "mirX5C3gcjCQZS+S92KkXgwhNCKAQNgdj06a3rOMjT+2lKi3HboV861eYMpHd90yBWX6/xQh/lOW\n",
              "2rP658M3tOAAAADQAZ9rakK/AACs8mYbSx3LCHzWVuwtPoUtk0tCe8e4AL2gvxOQ4kWD99E4mxCs\n",
              "ddtfZvDttuM44FXwycs/68BMAI5qCPrpvPmLxXfIhaBDWWLp0HUfCU/G6o0HYETzkGA/lmiBglDa\n",
              "V4k6OvTF15Z+rQnxP3R/G4m5QLxQtiK6rC2bQgmtKjpJHt0FmpnPu5YQujxDK0eUytTtSWPGxV4k\n",
              "Lifk+moWNJjQUeVZxGjdGYnV6PHOj19q+4yhI/vDxMjm3zXZioDkL5KZHFGvjUw3/gAAAWlBm29J\n",
              "qEFsmUwIb//+p4QAAM7/cVQaFlFyMEP8AMkdMby4uTA7H8F6NPITE+j3vpCDbD/GEMozViMT29LE\n",
              "+Uar/GPdKPhTT6JLSCrEGz4L8Wy6H+3Y9+uvbOlyQ0kkJmwF85DNuVdtS2zqo7FEonOnGk/xQF2a\n",
              "sbMcMZ/Pk5lvGOWAmmaS7kSxK0ho/zDkfmvjpjK67jSa/lFQ9NibcOPdgp7cdli2sPGMDsuAKmC6\n",
              "BuonrdQywLAosCN8SD7wFrtc+Gre4B2jl7lfZpdWIniofQMbSWW6zYP7yXVBUQD2KwvXgJPeDPOD\n",
              "iL6CLRdEjTnA9pEKsEk3G0tBSwTJXLiCIGmCjO6sS3rnwdT37WFYziaeea/fxyYO+xhMkLWLs1j3\n",
              "XH3dMuQ/bR+w6Tkpa/0toBRfKx+KGafCQMKh5NwVzzC9PJSo8pCl9pS8TnUeNOtl+difFHL5JTar\n",
              "THdeYizQ/bXt3ZzGdtqZAAAAjkGfjUUVLCv/AACs5rhhw4kp211JIWwOzBABNoYpV4BwbqLPmejb\n",
              "Y+LRdyXBm/SXvcOdmKHeMZLZZShjdmdxnJcTTh6i8YW/b8pPnIUgkP14wjyQGYQYV58Ns339rJBz\n",
              "VeqcsIRFIb9aF5arJgWddGEq8vQFQ0Vn4dd1Pd8KF5wrPbQYAL8OhiUas2DQCbkAAAD6AZ+uakK/\n",
              "AACs17lRvr9IjoqvDstQWgvWqDZNy41kIkC/c9rV6jU1fbV1TsxP+4qZ0/J9GpbmqAEq7ekv218l\n",
              "ELMbOYU5n7HrTGWIp52ShyB/8gqn4ZQaEFXoFHIuaUKGJUgL9C26wpap6Ybrb6R4uT6RDhCLDCT5\n",
              "jfWAHnOWCLKFwoxJsUJqgw/AmGj4lwBWHJhCHjXi15iJECs1JQX6kweMnEyOyimPObMvkrDiNZfg\n",
              "z+LZrmFCJtIkrjb2k41kIrysPJkiJ4mOyDAnCuqpBjXwrM9bjwggmV6ZA53jSVbXKvbV+YF+CBWu\n",
              "ARouOZVsm1063ywf9ESwcQAAAN1Bm7BJqEFsmUwId//+qZYAAGq9suxwR8kU+EzCAPH/HyGGAIhk\n",
              "wW3PkoBEPDQATklpXH6/IRRXQJtl675asBwJyH47DAu1eSieP/7ng9IwxGqjgr+lP/mdWtZFumHQ\n",
              "NvIebrCOhpUhUoRie/DgdgzGeK90HjkNBPSqnr6zU14WSXkW3IlYepZ0MsRVULbkKO0ziN+JKkHA\n",
              "laSEijNPE9w2yviCr+F8g46KN27Bwuc0wr11VgnqljebYUks9Y5uRnrCuEs9CB+/GgjTgDva7vFt\n",
              "udkcnW3BKXQDjYfOHgAAAVpBm9RJ4QpSZTAh3/6plgAAZ65orhT4JfeZQAXijQ0bcVLkdne3R5ot\n",
              "g3SBCiZ84w94CaoJPMcF+MQoywx7lMzqacxE6gFQPtT7MdeSWq8l2Iv7J9g64aBsgGB4+RjY+H/O\n",
              "GjyAF8/6/54lh0wOydnsZ/7R1Fn45ggz7N21LMCU6bU/XZDwquLSzsmS1BQsSVpWH+5q24SzNMPb\n",
              "Qg2Z3UuHzjYizREGwikT5u+O+S6RhylVR8QdzMQ2XnkLYYvCpexEBDfwBjdfmEbpUlAOkLqhStZr\n",
              "IksXmIwQTyME2fOU6Xf7M2ijStSL1WjoIfabyQgNuMKtZhsBxUzxeHNbCYk6QiVhoEX9jt5ghJfs\n",
              "IPJpdvIUemqNvtBfScVG5oN1TFE48RYlWjB1v3Cpy31rlM8o2CwbwyCg58eksMPZvF/9ez7jgIVK\n",
              "3d2ayxj3Uw02L+MRNM6oegpKExWwAAAAwUGf8kU0TC//AAB8YikMVr1wul4OKkAE3Y91z6bcyhYB\n",
              "mbqWJjsTNY3g5SCoOP23g+ZAgUCTgZGSC01/xgvqos9tja0DgkFaJ6O737RkkwPJhAOv+UGdbSOH\n",
              "sctvFepQlqioxQieYvMnmew9kCCKofM1bDZHzZ51Uag2fRbFa4+8UBQMcKs3vryqYaQ6eTuKTCvX\n",
              "83YCNLdCPdn9IY8CdK1d2u9dqz9wW5rWf1vs2877K/DwsvH64V+LOT7czSjYVCEAAACZAZ4RdEK/\n",
              "AACs5JMNwmi+Ztnw6zGIgDJJxUDInmphJO1QkLnRseVK5gie7rIAhf3ULN4uDNrspiRNxHSwL+p8\n",
              "6Qv9pjg7LHj7WMLZfzcZu6+OVCUsC3Lr47h5V82Vgd1E9RrMGzkZkU/EVHI2/Jp9H4k6gDas2clX\n",
              "y1gHR2A6lQNX77R93x0G+rsR2kY7P5RgErtYA2KG+7qoAAAAsQGeE2pCvwAArNe5Uc9Xfath7Gsn\n",
              "h4rSbgAt6a04GXEpTYx5Q7krLltOZYCtKGmMvfzXICazOHiXVXX37b71rFSC0nuRlhky4VrC3PGt\n",
              "cvO+KjochI5rf2k+G/XKLh24LI396Sj40y4H3jlwVI9GBn6i1M+RBqaoCcNG6PWYzBy7NPkCyn/W\n",
              "2T5bKBC/qKJeXgpv1ItnW+vEOhk6CDnyKZSwv7IAzZBapgo3my9zh6TqhAAAAOBBmhhJqEFomUwI\n",
              "b//+p4QAANLaZn5G9cWFEchA4iatdSiODEw9SPABuBIIVUrfiBW7tAiWuVjsSs/443Uw7ZMLCtdS\n",
              "cO62t8oJnOI9f7UnbhmFDkpO0UtqoVw6pN/XcQqTyLhZ4UkLUtify4Obm8euEK0Aahol4Fvz6/Wd\n",
              "1JX7AMNIsnPTMlDi7wGn2RmyVXylhk5q4xPZpye7gXLzbXx2QOlrAPBBqrZw2wj6z7h8wecoNrbo\n",
              "z5Z4MaPdQJgK6S/HEthVrZOvD4YZOQItG9fdJhSyxMz9mONXrCzqjP3KgQAAAL5BnjZFESwv/wAA\n",
              "fFL4aO97mTPeMVUSqnV0wwln9Si5zPwlFhlUS7JomWwIuMuMN0GbrkJA2cAc8tdSCYBjnnnzX5a9\n",
              "lWlBX3hnVdw0Anw5ydpg2Glk2jhumXAxm7tFhvtf4sX1oxJPTNLE8ogrn16IIds1PmAbLpvQxuJl\n",
              "pkoGynPmFU5gXYKaENt9gv1AGwIefiqMc42+2THyQXM/HYXnUHQovePZL6IB7oIVM/ZMHmYxUjde\n",
              "QSvC/hzofUuAAAAAcQGeVXRCvwAArMXmGiCmoJl3kcqEguoAzFDOv1EMaHTHTH4UUxDNjsCWUTn5\n",
              "H4P8fadQquiSlXMxmOoQDQ6FsABx28x1D3qWr+t1cmZi1DU/dDY55dUQGGHQ/yjUm8rrev8HTugm\n",
              "EnG1EmGR94RhfPsxAAABBQGeV2pCvwAArNek4gAdaOw30Y5Ft9mVLfQiT04yPKNoGDgkHeCB4spj\n",
              "cXt1+EfFhntS8KFOXc4X+mtENJ06L0slt2qDFx2ipMXdoUhbVHW3/awWpKiSq1ajBzK8kCNIL1VP\n",
              "lIWIm637FiLvRRQSFrzrQyCLfrkqUBAf9F4/xm/ExyhdnyIvvd1YlqiIk+vpOzYGJT8sag++LzR8\n",
              "mnzQGHA7VkyoQ2TGRY00maGyP0y/4/C0xSuG2HRrGujdG6mdB9400GuvVM1kV7kfAejRLaHjKUIc\n",
              "plXN1mfuTFcBSSpNfwhGquGoEDW12+ZA2unucbDOh/AZXX66U4mtkkatHzKpW1uqEQAAAJFBmlxJ\n",
              "qEFsmUwIb//+p4QAAM7r3wwLYcAEOImcrIanB3EpDA4t44snNJgCVQdrlq9hUx/mIzxWZIezo2d7\n",
              "p2Ws2g1fKW7TtZQIRgXlOFLKKB/ZyDCfGt90W+8cflsgl3i91JNimKgM9qSdfbMpAge7CjWZD57r\n",
              "PX+7GUNj7QWfpk/bTw9ii5RCGtwRD6YAAPmAAAABaEGeekUVLC//AAB8YikMVr1waGwiqTk8MkII\n",
              "IUfcZd2fPOdst+Bp1DEah/d1uGt3VZ4boxm/2y4TPr8wXER+bq/oP///U4jK4B21SJbsFaZfkjzs\n",
              "8/BxK8YCtXpKudqVhSezIw02Aa8KlMRnctY6WLoQR3zztp7PpUSEFbtvng2HNWi6Ib6pgZn7f4Cy\n",
              "2Av1QQjC7uDVSHkKLmJOhpT9hT5cFWNDSXuOE5iZxek7KUrououyRBMQOITSmd2f57gMMZl+F/mW\n",
              "ekXUcmO+8Jq4Ae3QBv1Cs4wHKyuuWdAitO/SUFD1khwF6z6DvA4tVrFaIkxwtXKcArBvwm2Ps98/\n",
              "406VBbvsBQJYNgjJtihXujICgtoEi42TlJwAXxmwZ9nF/fcbk4D5IZ2ntek//GCagiKEf8jJFDJu\n",
              "WOJEmh4exCEMN6CgWPexfeCLwr/UJrIYOdNv1eMeyWz5h8uGKSIbi+p1nZ4wcu+l4QAAAMEBnpl0\n",
              "Qr8AAKymGYRLrpuUmXbnQLyH2xQjk21AHQMieamEk7VCQ7pXXTTLyerjFWrZVgjI8ac++AmXPxjX\n",
              "hfG8xU44lPaJ1XEhv7vhAUriBh8jUm8mb0OIvZxxzzLPAWzd0H9/cQ9KcNd1lDmruTRupO/E2S0Q\n",
              "EbXltuFiJkmLKD8sJJjYd3uiHb6+202eUY9n9MYdTG0D7zc+EY2cb/nLirbmk+yXjXSLfTppFdrC\n",
              "w+J+cYAonCiN5XJdXk1/T3SAAAAAogGem2pCvwAArNe5Uc9LZSprujQ1UVYzEVrrF4TBf7OX+tSf\n",
              "P0tEiNbKJEAIdwXk06rqobxwBUADnvX9ICYNSXH58pQ9UDbuXE6zFxNpKP5INJD7Zaxx6/ISdJE2\n",
              "8wGJ6ESeOoKFl+4RicLbIHyQK5rJd8/7/0Ec+xwiZ6RBtFjKShn7e27/ZvQHocs2jXIXkGmHJU9R\n",
              "vv916FqJ48wWuItP8QAAAPNBmp1JqEFsmUwIb//+p4QAAM3ag5PiVJ5eK8H3Zb9kDKpGBTsgkJLh\n",
              "+dqtCxcYMj5Fy/+7prlTtYF1VKmJ9X+4rRoqAOaYPmcriwGRCjrp/TmvyYGBhMares2BPnwIzx5Y\n",
              "AAMT1R+OMQA/ECS01/MfuxAtVtoi019mhyjKkNh8NJcO2ZElKAPYL4dQ/Ih5dhdaM4s/lZXhP3tE\n",
              "baxJzL/W8IZy73njFmkjcqDsbwk/VwvCsSIg2DFT0Gam65JxFgArGv0JbryoW4FipFqLbvWtRExk\n",
              "RuHk/blkLS+tcEFf2QGGC1Vxk5wK5ZRNJLTYttSAAkcAAAB0QZqhSeEKUmUwIZ/+nhAAAyfvOMPU\n",
              "L3HAAAz68QlIbtIrq8204YhXgs5a7HpRcK7o3aumXMDacXgBDAgLdJd/DHzi/1OAn793fGJzHDRy\n",
              "IlM/6sQfGY5NGqYU2wnJ3utARHoDJ+eTlOEwFkzzmfAmxlC8CtgAAAEzQZ7fRTRML/8AAHmS+Hkb\n",
              "62uk8OGJFvC0VrJAA2mF6FvAKmSvIwbM7u7Q1JYhqsbcrJAaZ2FmQ4Cvu86l8pQK+uqxhg2UpIsy\n",
              "vQfAqtXvLIu4qkQRKzcxRczrEiRsh4SlwALqZyImgAmyS4zqW5SvdRD2pywYTeQmuZFjv72FI6tf\n",
              "DrRA6IPAnmJDrxRB5ixSU5AebFwSG9aemTrJLviMIyU+Tiiv25W9qC7u9YQTOjJNLW/OobWix4D9\n",
              "S5xIhOWAw0btH2X0R7g1w4VXA3XRVKTnGsr87ZM6AXP1WpitNj9mz+NoRwYvLsmgxfU71N/McIkA\n",
              "CYBAm2DH6wLMcy/YnmPaqF0ki7ul9EtgVzonXKmlfO7zW/Zrba0O5TJ5hWkfondhgmTGl3tlRXTl\n",
              "/PYpllAOOAAAAVUBnv50Qr8AAKrZgmPwNe30AJl1R2ICF0jnWGyOGn/nuZ/ob2PFxTiABxpboS9T\n",
              "NvnqK+REOKnmUNT5X31aDJ5vugsn01oPmgFqQJ60VqgrWUQyDx3SrqkGtQ+tS6URumCMzdA299+R\n",
              "4gyqwA5QaxM2WiCZu5/x7yZHWAAgPuP9zCIezZsTwW2e1AVnPGcKr05H/IEXT0EKbbW8nZ0jop0S\n",
              "hRmemhrl1dRCt8tEEQHSgitmHrMGRvtvmLCIRcGcv1r3uleX+JwH40nn5O9sZ42c7F7YU6Xw+QNX\n",
              "EM10ZwIPpNOstndGVDfEKChWguslBoQRL6oxQorpH9JarA52lIfHvfCCAjFlrww8OhlNMG2qZvGY\n",
              "ymA5McIXH50F5x3KJAahOeVEeU98mgY1uSoxTt2eSXOYnfu3Cy1gopcq18SqQIXsC4lOxGZ8Gehk\n",
              "Q1pmlfQvYRpQwQAAANUBnuBqQr8AAKrZgTrQZlJzgGAC9FUx3r4cLYdtrT4fHVXC0BPlbK2MEz8U\n",
              "01SUmcYWhGXx0yF8ar+3z/lrHtemdQp2x1Lyy0lFrdLQsMZ2u56qkUo35I2l5tewVR8eTQhN1FmA\n",
              "TlL7urFcIwmSi5LbiTkAP8othE5G0W1jUzlt1wdU1y2pE55MfMynHLj7mJG3vCBMat6TGna2E5eQ\n",
              "b+k0AxZDtaUf2L0xZnNmykI3ErZbhWeZUQZMMaDh55m0mVBiCIPTx3QxpWBmOieDe27Im51REuIA\n",
              "AADwQZrjSahBaJlMFPCv/jhAAAyfqN5iidcmjNCoAOUquOWSucPzH5y4/TfP/tnNyNDhD9e7BQ56\n",
              "+VOiIRm7iYYTpspfV5OWic9HUU+QDkv840BRRrFvTeAdg0GG+vZQUgsp/wdzB2ToHWPjH6V1qZlS\n",
              "3WU+swfOkK/g9/n/+GnrDLlnu3MxFbPYYLxZ1KS3FUxNpdZpTMLddRJAT7WKuRAhzBUBkXCjiQAq\n",
              "JNdDfowE4e7D3ZwTbAgv0KkV2NSiqiz1h/zYjFwx7Wu14wa44jUH4bSj2QHpaccGLpMd6oUrsccI\n",
              "yUW0I2nm1nbi8Xgco1aZAAAArAGfAmpCvwAArLROSyfWG84Hmk1aE/1/lMVidxbQ73MAG0Fip3Lp\n",
              "6yknanQK5N7zSG337EHu+qrsPU/vkO/m4DXIexCzuJL0pobS9Llve1r1W34Imnq92yga8rsnG494\n",
              "Tz++Chd0VIGq1/xPjpka3+8D2YumNNV1Ojfy1ujOX10wn/1qzqW5n3PD/rx6uhLVfYZT2umGFzi/\n",
              "ZU2WA9J5QWSBDfbgtW6qBG5kAHAAAAeebW9vdgAAAGxtdmhkAAAAAAAAAAAAAAAAAAAD6AAAD6AA\n",
              "AQAAAQAAAAAAAAAAAAAAAAEAAAAAAAAAAAAAAAAAAAABAAAAAAAAAAAAAAAAAABAAAAAAAAAAAAA\n",
              "AAAAAAAAAAAAAAAAAAAAAAAAAAAAAgAABsh0cmFrAAAAXHRraGQAAAADAAAAAAAAAAAAAAABAAAA\n",
              "AAAAD6AAAAAAAAAAAAAAAAAAAAAAAAEAAAAAAAAAAAAAAAAAAAABAAAAAAAAAAAAAAAAAABAAAAA\n",
              "AoAAAAHgAAAAAAAkZWR0cwAAABxlbHN0AAAAAAAAAAEAAA+gAAAEAAABAAAAAAZAbWRpYQAAACBt\n",
              "ZGhkAAAAAAAAAAAAAAAAAAAyAAAAyABVxAAAAAAALWhkbHIAAAAAAAAAAHZpZGUAAAAAAAAAAAAA\n",
              "AABWaWRlb0hhbmRsZXIAAAAF621pbmYAAAAUdm1oZAAAAAEAAAAAAAAAAAAAACRkaW5mAAAAHGRy\n",
              "ZWYAAAAAAAAAAQAAAAx1cmwgAAAAAQAABatzdGJsAAAAs3N0c2QAAAAAAAAAAQAAAKNhdmMxAAAA\n",
              "AAAAAAEAAAAAAAAAAAAAAAAAAAAAAoAB4ABIAAAASAAAAAAAAAABAAAAAAAAAAAAAAAAAAAAAAAA\n",
              "AAAAAAAAAAAAAAAAAAAAGP//AAAAMWF2Y0MBZAAe/+EAGGdkAB6s2UCgPaEAAAMAAQAAAwAyDxYt\n",
              "lgEABmjr48siwAAAABx1dWlka2hA8l8kT8W6OaUbzwMj8wAAAAAAAAAYc3R0cwAAAAAAAAABAAAA\n",
              "ZAAAAgAAAAAUc3RzcwAAAAAAAAABAAAAAQAAAvBjdHRzAAAAAAAAAFwAAAABAAAEAAAAAAEAAAoA\n",
              "AAAAAQAABAAAAAABAAAAAAAAAAEAAAIAAAAAAQAACgAAAAABAAAEAAAAAAEAAAAAAAAAAQAAAgAA\n",
              "AAABAAAKAAAAAAEAAAQAAAAAAQAAAAAAAAABAAACAAAAAAEAAAoAAAAAAQAABAAAAAABAAAAAAAA\n",
              "AAEAAAIAAAAAAQAACgAAAAABAAAEAAAAAAEAAAAAAAAAAQAAAgAAAAABAAAIAAAAAAIAAAIAAAAA\n",
              "AQAACgAAAAABAAAEAAAAAAEAAAAAAAAAAQAAAgAAAAABAAAKAAAAAAEAAAQAAAAAAQAAAAAAAAAB\n",
              "AAACAAAAAAEAAAoAAAAAAQAABAAAAAABAAAAAAAAAAEAAAIAAAAAAQAACAAAAAACAAACAAAAAAEA\n",
              "AAoAAAAAAQAABAAAAAABAAAAAAAAAAEAAAIAAAAAAQAACgAAAAABAAAEAAAAAAEAAAAAAAAAAQAA\n",
              "AgAAAAABAAAKAAAAAAEAAAQAAAAAAQAAAAAAAAABAAACAAAAAAEAAAgAAAAAAgAAAgAAAAABAAAI\n",
              "AAAAAAIAAAIAAAAAAQAACAAAAAACAAACAAAAAAEAAAoAAAAAAQAABAAAAAABAAAAAAAAAAEAAAIA\n",
              "AAAAAQAACAAAAAACAAACAAAAAAEAAAYAAAAAAQAAAgAAAAABAAAEAAAAAAEAAAgAAAAAAgAAAgAA\n",
              "AAABAAAKAAAAAAEAAAQAAAAAAQAAAAAAAAABAAACAAAAAAEAAAgAAAAAAgAAAgAAAAABAAAEAAAA\n",
              "AAEAAAoAAAAAAQAABAAAAAABAAAAAAAAAAEAAAIAAAAAAQAACgAAAAABAAAEAAAAAAEAAAAAAAAA\n",
              "AQAAAgAAAAABAAAKAAAAAAEAAAQAAAAAAQAAAAAAAAABAAACAAAAAAEAAAQAAAAAAQAACgAAAAAB\n",
              "AAAEAAAAAAEAAAAAAAAAAQAAAgAAAAABAAAGAAAAAAEAAAIAAAAAHHN0c2MAAAAAAAAAAQAAAAEA\n",
              "AABkAAAAAQAAAaRzdHN6AAAAAAAAAAAAAABkAAAIogAAAXkAAAFcAAABRwAAAKAAAAGSAAAAxwAA\n",
              "AGYAAAD4AAABTgAAAK0AAAEsAAABVQAAAQgAAACzAAABKwAAAMwAAADSAAAA4wAAAHAAAAC/AAAA\n",
              "uwAAAJwAAACrAAABYAAAAMIAAADHAAAA4gAAAOgAAAEfAAAAxQAAAJYAAAEYAAAAjAAAAIkAAACq\n",
              "AAABVwAAAIYAAACuAAABgwAAAN4AAACuAAAApwAAANoAAAB0AAAAYgAAAQ0AAADjAAAAjgAAAOoA\n",
              "AAELAAABOwAAAIIAAAFKAAAAvwAAAQsAAAB4AAABEgAAAGoAAAB6AAABLgAAAE4AAACpAAABIgAA\n",
              "AbAAAABkAAAAxgAAALQAAAD1AAAAiQAAATEAAADwAAAAmgAAATsAAAERAAAAngAAANQAAAFtAAAA\n",
              "kgAAAP4AAADhAAABXgAAAMUAAACdAAAAtQAAAOQAAADCAAAAdQAAAQkAAACVAAABbAAAAMUAAACm\n",
              "AAAA9wAAAHgAAAE3AAABWQAAANkAAAD0AAAAsAAAABRzdGNvAAAAAAAAAAEAAAAsAAAAYnVkdGEA\n",
              "AABabWV0YQAAAAAAAAAhaGRscgAAAAAAAAAAbWRpcmFwcGwAAAAAAAAAAAAAAAAtaWxzdAAAACWp\n",
              "dG9vAAAAHWRhdGEAAAABAAAAAExhdmY1OC4yOS4xMDA=\n",
              "\">\n",
              "  Your browser does not support the video tag.\n",
              "</video>"
            ]
          },
          "metadata": {},
          "execution_count": 14
        },
        {
          "output_type": "display_data",
          "data": {
            "text/plain": [
              "<Figure size 640x480 with 1 Axes>"
            ],
            "image/png": "[encoded data removed]"
          },
          "metadata": {}
        }
      ],
      "source": [
        "fig, ax = plt.subplots()\n",
        "anim = splt.animator(spike_data_sample, fig, ax)\n",
        "# plt.rcParams['animation.ffmpeg_path'] = 'C:\\\\path\\\\to\\\\your\\\\ffmpeg.exe'\n",
        "\n",
        "HTML(anim.to_html5_video())"
      ]
    },
    {
      "cell_type": "code",
      "execution_count": 15,
      "metadata": {
        "id": "ko8KJBCNobY4",
        "pycharm": {
          "name": "#%%\n"
        }
      },
      "outputs": [],
      "source": [
        "# If you're feeling sentimental, you can save the animation: .gif, .mp4 etc.\n",
        "anim.save(\"spike_mnist_test.mp4\")"
      ]
    },
    {
      "cell_type": "markdown",
      "metadata": {
        "id": "gu1_f0XZobY4",
        "pycharm": {
          "name": "#%% md\n"
        }
      },
      "source": [
        "The associated target label can be indexed as follows:"
      ]
    },
    {
      "cell_type": "code",
      "execution_count": 16,
      "metadata": {
        "id": "7Yb76uofobY4",
        "pycharm": {
          "name": "#%%\n"
        },
        "outputId": "d712a207-a0fd-4c94-aaf1-8d0d7b9df786",
        "colab": {
          "base_uri": "https://localhost:8080/"
        }
      },
      "outputs": [
        {
          "output_type": "stream",
          "name": "stdout",
          "text": [
            "The corresponding target is: 1\n"
          ]
        }
      ],
      "source": [
        "print(f\"The corresponding target is: {targets_it[0]}\")"
      ]
    },
    {
      "cell_type": "markdown",
      "metadata": {
        "id": "YTRqW-wtobY5",
        "pycharm": {
          "name": "#%% md\n"
        }
      },
      "source": [
        "MNIST features a greyscale image, and the white text guarantees a 100% of spiking at every time step. So let's do that again but reduce the spiking frequency. This can be achieved by setting the argument `gain`. Here, we will reduce spiking frequency to 25%."
      ]
    },
    {
      "cell_type": "code",
      "execution_count": null,
      "metadata": {
        "id": "ymxnM4CaobY5",
        "pycharm": {
          "name": "#%%\n"
        }
      },
      "outputs": [],
      "source": [
        "spike_data = spikegen.rate(data_it, num_steps=num_steps, gain=0.25)\n",
        "\n",
        "spike_data_sample2 = spike_data[:, 0, 0]\n",
        "fig, ax = plt.subplots()\n",
        "anim = splt.animator(spike_data_sample2, fig, ax)\n",
        "HTML(anim.to_html5_video())"
      ]
    },
    {
      "cell_type": "code",
      "execution_count": null,
      "metadata": {
        "id": "dicJdyG2obY5",
        "pycharm": {
          "name": "#%%\n"
        }
      },
      "outputs": [],
      "source": [
        "# Uncomment for optional save\n",
        "# anim.save(\"spike_mnist_test2.mp4\")"
      ]
    },
    {
      "cell_type": "markdown",
      "metadata": {
        "id": "JgPZBNIaobY5"
      },
      "source": [
        "Now average the spikes out over time and reconstruct the input images."
      ]
    },
    {
      "cell_type": "code",
      "execution_count": null,
      "metadata": {
        "id": "e4ikMCQLobY6",
        "pycharm": {
          "name": "#%%\n"
        }
      },
      "outputs": [],
      "source": [
        "plt.figure(facecolor=\"w\")\n",
        "plt.subplot(1,2,1)\n",
        "plt.imshow(spike_data_sample.mean(axis=0).reshape((28,-1)).cpu(), cmap='binary')\n",
        "plt.axis('off')\n",
        "plt.title('Gain = 1')\n",
        "\n",
        "plt.subplot(1,2,2)\n",
        "plt.imshow(spike_data_sample2.mean(axis=0).reshape((28,-1)).cpu(), cmap='binary')\n",
        "plt.axis('off')\n",
        "plt.title('Gain = 0.25')\n",
        "\n",
        "plt.show()"
      ]
    },
    {
      "cell_type": "markdown",
      "metadata": {
        "id": "6bbbI1o2obY7",
        "pycharm": {
          "name": "#%% md\n"
        }
      },
      "source": [
        "The case where `gain=0.25` is lighter than where `gain=1`, as spiking probability has been reduced by a factor of $\\times 4$."
      ]
    },
    {
      "cell_type": "markdown",
      "metadata": {
        "id": "WpfpKe3zobY8",
        "pycharm": {
          "name": "#%% md\n"
        }
      },
      "source": [
        "#### 2.2.2 Raster Plots\n",
        "Alternatively, we can generate a raster plot of an input sample. This requires reshaping the sample into a 2-D tensor, where 'time' is the first dimension. Pass this sample into the function `spikeplot.raster`. "
      ]
    },
    {
      "cell_type": "code",
      "execution_count": null,
      "metadata": {
        "id": "KCpsLPySobY8",
        "pycharm": {
          "name": "#%%\n"
        }
      },
      "outputs": [],
      "source": [
        "# Reshape\n",
        "spike_data_sample2 = spike_data_sample2.reshape((num_steps, -1))\n",
        "\n",
        "# raster plot\n",
        "fig = plt.figure(facecolor=\"w\", figsize=(10, 5))\n",
        "ax = fig.add_subplot(111)\n",
        "splt.raster(spike_data_sample2, ax, s=1.5, c=\"black\")\n",
        "\n",
        "plt.title(\"Input Layer\")\n",
        "plt.xlabel(\"Time step\")\n",
        "plt.ylabel(\"Neuron Number\")\n",
        "plt.show()"
      ]
    },
    {
      "cell_type": "markdown",
      "metadata": {
        "id": "WvhIdrAZobY9",
        "pycharm": {
          "name": "#%% md\n"
        }
      },
      "source": [
        "The following code snippet shows how to index into one single neuron. \n",
        "Depending on the input data, you may need to try\n",
        "a few different neurons between 0 & 784 before finding one that\n",
        "spikes."
      ]
    },
    {
      "cell_type": "code",
      "execution_count": null,
      "metadata": {
        "id": "R3kY3uoOobY9",
        "pycharm": {
          "name": "#%%\n"
        }
      },
      "outputs": [],
      "source": [
        "idx = 210  # index into 210th neuron\n",
        "\n",
        "fig = plt.figure(facecolor=\"w\", figsize=(8, 1))\n",
        "ax = fig.add_subplot(111)\n",
        "\n",
        "splt.raster(spike_data_sample.reshape(num_steps, -1)[:, idx].unsqueeze(1), ax, s=100, c=\"black\", marker=\"|\")\n",
        "\n",
        "plt.title(\"Input Neuron\")\n",
        "plt.xlabel(\"Time step\")\n",
        "plt.yticks([])\n",
        "plt.show()"
      ]
    },
    {
      "cell_type": "markdown",
      "metadata": {
        "id": "1lxp91nlobY-",
        "pycharm": {
          "name": "#%% md\n"
        }
      },
      "source": [
        "#### 2.2.3 Summary of Rate Coding\n",
        "The idea of rate coding is actually quite controversial. Although we are fairly confident rate coding takes place at our sensory periphery, we are not convinced that the cortex globally encodes information as spike rates. A couple of compelling reasons why include:\n",
        "\n",
        "*   **Power Consumption:** Nature optimised for efficiency. Multiple spikes are needed to achieve any sort of task, and each spike consumes power. In fact, [Olshausen and Field's work in \"What is the other 85% of V1 doing?\"](http://www.rctn.org/bruno/papers/V1-chapter.pdf) demonstrates that rate-coding can only explain, at most, the activity of 15% of neurons in the primary visual cortex (V1). It is unlikely to be the only mechanism within the brain, which is both resource-constrained and highly efficient.\n",
        "\n",
        "\n",
        "*   **Reaction Response Times:** We know that the reaction time of a human is roughly around 250ms. If the average firing rate of a neuron in the human brain is on the order of 10Hz, then we can only process about 2 spikes within our reaction timescale.\n",
        "\n",
        "So why, then, might we use rate codes if they are not optimal for power efficiency or latency? Even if our brain doesn't process data as a rate, we are fairly sure that our biological sensors do. The power/latency disadvantages are partially offset by showing huge noise robustness: it's fine if some of the spikes fail to generate, because there will be plenty more where they came from.\n",
        "\n",
        "Additionally, you may have heard of the [Hebbian mantra of \"neurons that fire together, wire together\"](https://doi.org/10.2307/1418888). If there is plenty of spiking, this may suggest there is plenty of learning. In some cases where training SNNs proves to be challenging, encouraging more firing via a rate code is one possible solution.\n",
        "\n",
        "Rate coding is almost certainly working in conjunction with other encoding schemes in the brain. We will consider these other encoding mechanisms in the following sections. \n",
        "This covers the `spikegen.rate` function. Further information [can be found in the documentation here](https://snntorch.readthedocs.io/en/latest/snntorch.spikegen.html).\n",
        "\n"
      ]
    },
    {
      "cell_type": "markdown",
      "metadata": {
        "id": "enzqRvuNobY-",
        "pycharm": {
          "name": "#%% md\n"
        }
      },
      "source": [
        "### 2.3 Latency Coding of MNIST\n",
        "Temporal codes capture information about the precise firing time of neurons; a single spike carries much more meaning than in rate codes which rely on firing frequency. While this opens up more susceptibility to noise, it can also decrease the power consumed by the hardware running SNN algorithms by orders of magnitude. \n",
        "\n",
        "`spikegen.latency` is a function that allows each input to fire at most **once** during the full time sweep.\n",
        "Features closer to `1` will fire earlier and features closer to `0` will fire later. I.e., in our MNIST case, bright pixels will fire earlier and dark pixels will fire later. \n",
        "\n",
        "The following block derives how this works. If you've forgotten circuit theory and/or the math means nothing to you, then don't worry! All that matters is: **big** input means **fast** spike; **small** input means **late** spike.\n"
      ]
    },
    {
      "cell_type": "markdown",
      "metadata": {
        "id": "d5yZdcX4So-W"
      },
      "source": [
        "---\n",
        "**Optional: Derivation of Latency Code Mechanism**\n",
        "\n",
        "By default, spike timing is calculated by treating the input feature as the current injection $I_{in}$ into an RC circuit. This current moves charge onto the capacitor, which increases $V(t)$. We assume that there is a trigger voltage, $V_{thr}$, which once reached, generates a spike. The question then becomes: *for a given input current (and equivalently, input feature), how long does it take for a spike to be generated?*\n",
        "\n",
        "Starting with Kirchhoff's current law, $I_{in} = I_R + I_C$, the rest of the derivation leads us to a logarithmic relationship between time and the input. \n",
        "\n",
        "<center>\n",
        "<img src='https://github.com/jeshraghian/snntorch/blob/master/docs/_static/img/examples/tutorial1/1_2_4_latencyrc.png?raw=true' width=\"600\">\n",
        "</center>\n",
        "\n",
        "---"
      ]
    },
    {
      "cell_type": "markdown",
      "metadata": {
        "id": "DqJlK7AhjGHw"
      },
      "source": [
        "The following function uses the above result to convert a feature of intensity $X_{ij}\\in [0,1]$ into a latency coded response $L_{ij}$. "
      ]
    },
    {
      "cell_type": "code",
      "execution_count": null,
      "metadata": {
        "id": "J06UgGHKTkea"
      },
      "outputs": [],
      "source": [
        "def convert_to_time(data, tau=5, threshold=0.01):\n",
        "  spike_time = tau * torch.log(data / (data - threshold))\n",
        "  return spike_time "
      ]
    },
    {
      "cell_type": "markdown",
      "metadata": {
        "id": "voBg5kujkGFQ"
      },
      "source": [
        "Now, use the above function to visualize the relationship between input feature intensity and its corresponding spike time.\n"
      ]
    },
    {
      "cell_type": "code",
      "execution_count": null,
      "metadata": {
        "id": "52PwqfpKkK-I"
      },
      "outputs": [],
      "source": [
        "raw_input = torch.arange(0, 5, 0.05) # tensor from 0 to 5\n",
        "spike_times = convert_to_time(raw_input)\n",
        "\n",
        "plt.plot(raw_input, spike_times)\n",
        "plt.xlabel('Input Value')\n",
        "plt.ylabel('Spike Time (s)')\n",
        "plt.show()"
      ]
    },
    {
      "cell_type": "markdown",
      "metadata": {
        "id": "P972FBhmluv3"
      },
      "source": [
        "The smaller the value, the later the spike occurs with exponential dependence.\n",
        "\n",
        "The vector `spike_times` contains the time at which spikes are triggered, rather than a sparse tensor that contains the spikes themselves (1's and 0's). \n",
        "When running an SNN simulation, we need the 1/0 representation to obtain all of the advantages of using spikes.\n",
        "This whole process can be automated using `spikegen.latency`, where we pass a minibatch from the MNIST dataset in `data_it`:"
      ]
    },
    {
      "cell_type": "code",
      "execution_count": null,
      "metadata": {
        "id": "m835u23QobY-",
        "pycharm": {
          "name": "#%%\n"
        }
      },
      "outputs": [],
      "source": [
        "spike_data = spikegen.latency(data_it, num_steps=100, tau=5, threshold=0.01)"
      ]
    },
    {
      "cell_type": "markdown",
      "metadata": {
        "id": "AKDPjTvKobY_",
        "pycharm": {
          "name": "#%% md\n"
        }
      },
      "source": [
        "Some of the arguments include:\n",
        "\n",
        "* `tau`:  the RC time constant of the circuit. By default, the input features are treated as a constant current injected into an RC circuit. A higher ``tau`` will induce slower firing.\n",
        "* `threshold`: the membrane potential firing threshold. Input values below this threshold do not have a closed-form solution, as the input current is insufficient to drive the membrane up to the threshold. All values below the threshold are clipped and assigned to the final time step."
      ]
    },
    {
      "cell_type": "markdown",
      "metadata": {
        "id": "VGH7b49SobY_",
        "pycharm": {
          "name": "#%% md\n"
        }
      },
      "source": [
        "#### 2.3.1 Raster plot"
      ]
    },
    {
      "cell_type": "code",
      "execution_count": null,
      "metadata": {
        "id": "kypMtfF7obY_",
        "pycharm": {
          "name": "#%%\n"
        }
      },
      "outputs": [],
      "source": [
        "fig = plt.figure(facecolor=\"w\", figsize=(10, 5))\n",
        "ax = fig.add_subplot(111)\n",
        "splt.raster(spike_data[:, 0].view(num_steps, -1), ax, s=25, c=\"black\")\n",
        "\n",
        "plt.title(\"Input Layer\")\n",
        "plt.xlabel(\"Time step\")\n",
        "plt.ylabel(\"Neuron Number\")\n",
        "plt.show()\n",
        "\n",
        "# optional save\n",
        "# fig.savefig('destination_path.png', format='png', dpi=300)"
      ]
    },
    {
      "cell_type": "markdown",
      "metadata": {
        "id": "Hm1--DHYobZA",
        "pycharm": {
          "name": "#%% md\n"
        }
      },
      "source": [
        "To make sense of the raster plot, note that high intensity features fire first, whereas low intensity features fire last:\n",
        "\n",
        "<center>\n",
        "<img src='https://github.com/jeshraghian/snntorch/blob/master/docs/_static/img/examples/tutorial1/1_2_5_latencyraster.png?raw=true' width=\"800\">\n",
        "</center>\n",
        "\n",
        "The logarithmic code coupled with the lack of diverse input values (i.e., the lack of midtone/grayscale features) causes significant clustering in two areas of the plot.\n",
        "The bright pixels induce firing at the start of the run, and the dark pixels at the end.\n",
        "We can increase `tau` to slow down the spike times, or linearize the spike times by setting the optional argument `linear=True`."
      ]
    },
    {
      "cell_type": "code",
      "execution_count": null,
      "metadata": {
        "id": "ZX8azDNWobZA",
        "pycharm": {
          "name": "#%%\n"
        }
      },
      "outputs": [],
      "source": [
        "spike_data = spikegen.latency(data_it, num_steps=100, tau=5, threshold=0.01, linear=True)\n",
        "\n",
        "fig = plt.figure(facecolor=\"w\", figsize=(10, 5))\n",
        "ax = fig.add_subplot(111)\n",
        "splt.raster(spike_data[:, 0].view(num_steps, -1), ax, s=25, c=\"black\")\n",
        "plt.title(\"Input Layer\")\n",
        "plt.xlabel(\"Time step\")\n",
        "plt.ylabel(\"Neuron Number\")\n",
        "plt.show()"
      ]
    },
    {
      "cell_type": "markdown",
      "metadata": {
        "id": "pZuk6g3NobZB",
        "pycharm": {
          "name": "#%% md\n"
        }
      },
      "source": [
        "The spread of firing times is much more evenly distributed now. This is achieved by linearizing the logarithmic equation according to the rules shown below. Unlike the RC model, there is no physical basis for the model. It's just simpler.\n",
        "\n",
        "<center>\n",
        "<img src='https://github.com/jeshraghian/snntorch/blob/master/docs/_static/img/examples/tutorial1/1_2_6_latencylinear.png?raw=true' width=\"600\">\n",
        "</center>\n",
        "\n",
        "\n",
        "But note how all firing occurs within the first ~5 time steps, whereas the simulation range is 100 time steps. \n",
        "This indicates that we have a lot of redundant time steps doing nothing. This can be solved by either increasing `tau` to slow down the time constant, or setting the optional argument `normalize=True` to span the full range of `num_steps`."
      ]
    },
    {
      "cell_type": "code",
      "execution_count": null,
      "metadata": {
        "id": "RLgntdwSobZB",
        "pycharm": {
          "name": "#%%\n"
        }
      },
      "outputs": [],
      "source": [
        "spike_data = spikegen.latency(data_it, num_steps=100, tau=5, threshold=0.01,\n",
        "                              normalize=True, linear=True)\n",
        "\n",
        "fig = plt.figure(facecolor=\"w\", figsize=(10, 5))\n",
        "ax = fig.add_subplot(111)\n",
        "splt.raster(spike_data[:, 0].view(num_steps, -1), ax, s=25, c=\"black\")\n",
        "\n",
        "plt.title(\"Input Layer\")\n",
        "plt.xlabel(\"Time step\")\n",
        "plt.ylabel(\"Neuron Number\")\n",
        "plt.show()"
      ]
    },
    {
      "cell_type": "markdown",
      "metadata": {
        "id": "1EFIqaylobZC",
        "pycharm": {
          "name": "#%% md\n"
        }
      },
      "source": [
        "One major advantage of latency coding over rate coding is sparsity. If neurons are constrained to firing a maximum of once over the time course of interest, then this promotes low-power operation.\n",
        "\n",
        "In the scenario shown above, a majority of the spikes occur at the final time step, where the input features fall below the threshold. In a sense, the dark background of the MNIST sample holds no useful information. \n",
        "\n",
        "We can remove these redundant features by setting `clip=True`."
      ]
    },
    {
      "cell_type": "code",
      "execution_count": null,
      "metadata": {
        "id": "uowgb4FPobZC",
        "pycharm": {
          "name": "#%%\n"
        }
      },
      "outputs": [],
      "source": [
        "spike_data = spikegen.latency(data_it, num_steps=100, tau=5, threshold=0.01, \n",
        "                              clip=True, normalize=True, linear=True)\n",
        "\n",
        "fig = plt.figure(facecolor=\"w\", figsize=(10, 5))\n",
        "ax = fig.add_subplot(111)\n",
        "splt.raster(spike_data[:, 0].view(num_steps, -1), ax, s=25, c=\"black\")\n",
        "\n",
        "plt.title(\"Input Layer\")\n",
        "plt.xlabel(\"Time step\")\n",
        "plt.ylabel(\"Neuron Number\")\n",
        "plt.show()"
      ]
    },
    {
      "cell_type": "markdown",
      "metadata": {
        "id": "W7gN02QOobZC",
        "pycharm": {
          "name": "#%% md\n"
        }
      },
      "source": [
        "That looks much better!"
      ]
    },
    {
      "cell_type": "markdown",
      "metadata": {
        "id": "XG9erdfxobZD",
        "pycharm": {
          "name": "#%% md\n"
        }
      },
      "source": [
        "#### 2.3.2 Animation\n",
        "We will run the exact same code block as before to create an animation."
      ]
    },
    {
      "cell_type": "code",
      "execution_count": null,
      "metadata": {
        "id": "BjLC1Pl_obZD",
        "pycharm": {
          "name": "#%%\n"
        }
      },
      "outputs": [],
      "source": [
        "spike_data_sample = spike_data[:, 0, 0]\n",
        "print(spike_data_sample.size())"
      ]
    },
    {
      "cell_type": "code",
      "execution_count": null,
      "metadata": {
        "id": "uwVwMVpzobZD",
        "pycharm": {
          "name": "#%%\n"
        }
      },
      "outputs": [],
      "source": [
        "fig, ax = plt.subplots()\n",
        "anim = splt.animator(spike_data_sample, fig, ax)\n",
        "\n",
        "HTML(anim.to_html5_video())"
      ]
    },
    {
      "cell_type": "markdown",
      "metadata": {
        "id": "FONW5DIkobZE",
        "pycharm": {
          "name": "#%% md\n"
        }
      },
      "source": [
        "This animation is obviously much tougher to make out in video form, but a keen eye will be able to catch a glimpse of the initial frame where most of the spikes occur.\n",
        "Index into the corresponding target value to check its value."
      ]
    },
    {
      "cell_type": "code",
      "execution_count": null,
      "metadata": {
        "id": "VgNLaB90obZD",
        "pycharm": {
          "name": "#%%\n"
        }
      },
      "outputs": [],
      "source": [
        "# Save output: .gif, .mp4 etc.\n",
        "# anim.save(\"mnist_latency.gif\")"
      ]
    },
    {
      "cell_type": "code",
      "execution_count": null,
      "metadata": {
        "id": "wrqfPu43obZE",
        "pycharm": {
          "name": "#%%\n"
        }
      },
      "outputs": [],
      "source": [
        "print(targets_it[0])"
      ]
    },
    {
      "cell_type": "markdown",
      "metadata": {
        "id": "sl93G7LwnG67"
      },
      "source": [
        "That's it for the `spikegen.latency` function. Further information [can be found in the documentation here](https://snntorch.readthedocs.io/en/latest/snntorch.spikegen.html)."
      ]
    },
    {
      "cell_type": "markdown",
      "metadata": {
        "id": "Uxe0msNpmpcN"
      },
      "source": [
        "### 2.4 Delta Modulation\n",
        "There are theories that the retina is adaptive: it will only process information when there is something new to process. If there is no change in your field of view, then your photoreceptor cells are  less prone to firing. \n",
        "\n",
        "That is to say: **biology is event-driven**. Neurons thrive on change.\n",
        "\n",
        "As a nifty example, a few researchers have dedicated their lives to designing retina-inspired image sensors, for example, the [Dynamic Vision Sensor](https://ieeexplore.ieee.org/abstract/document/7128412/). Although [the attached link is from over a decade ago, the work in this video](https://www.youtube.com/watch?v=6eOM15U_t1M&ab_channel=TobiDelbruck) was ahead of its time.\n",
        "\n",
        "Delta modulation is based on event-driven spiking. The `snntorch.delta` function accepts a time-series tensor as input. It takes the difference between each subsequent feature across all time steps. By default, if the difference is both *positive* and *greater than the threshold $V_{thr}$*, a spike is generated:\n",
        "\n",
        "<center>\n",
        "<img src='https://github.com/jeshraghian/snntorch/blob/master/docs/_static/img/examples/tutorial1/1_2_7_delta.png?raw=true' width=\"600\">\n",
        "</center>\n",
        "\n",
        "To illustrate, let's first come up with a contrived example where we create our own input tensor."
      ]
    },
    {
      "cell_type": "code",
      "execution_count": null,
      "metadata": {
        "id": "0AOr1kN-r4n-"
      },
      "outputs": [],
      "source": [
        "# Create a tensor with some fake time-series data\n",
        "data = torch.Tensor([0, 1, 0, 2, 8, -20, 20, -5, 0, 1, 0])\n",
        "\n",
        "# Plot the tensor\n",
        "plt.plot(data)\n",
        "\n",
        "plt.title(\"Some fake time-series data\")\n",
        "plt.xlabel(\"Time step\")\n",
        "plt.ylabel(\"Voltage (mV)\")\n",
        "plt.show()"
      ]
    },
    {
      "cell_type": "markdown",
      "metadata": {
        "id": "Ih_UJ526tJPo"
      },
      "source": [
        "Pass the above tensor into the `spikegen.delta` function, with an arbitrarily selected `threshold=4`:"
      ]
    },
    {
      "cell_type": "code",
      "execution_count": null,
      "metadata": {
        "id": "WSNI1zGdtHac"
      },
      "outputs": [],
      "source": [
        "# Convert data\n",
        "spike_data = spikegen.delta(data, threshold=4)\n",
        "\n",
        "# Create fig, ax\n",
        "fig = plt.figure(facecolor=\"w\", figsize=(8, 1))\n",
        "ax = fig.add_subplot(111)\n",
        "\n",
        "# Raster plot of delta converted data\n",
        "splt.raster(spike_data, ax, c=\"black\")\n",
        "\n",
        "plt.title(\"Input Neuron\")\n",
        "plt.xlabel(\"Time step\")\n",
        "plt.yticks([])\n",
        "plt.xlim(0, len(data))\n",
        "plt.show()"
      ]
    },
    {
      "cell_type": "markdown",
      "metadata": {
        "id": "dlmCwN40uPLq"
      },
      "source": [
        "There are three time steps where the difference between $data[T]$ and $data[T+1]$ is greater than or equal to $V_{thr}=4$. This means there are three *on-spikes*. \n",
        "\n",
        "The large dip to $-20$ has not been captured above. If negative swings have importance in your data, you can enable the optional argument `off_spike=True`."
      ]
    },
    {
      "cell_type": "code",
      "execution_count": null,
      "metadata": {
        "id": "WMrUGhRnuN8e"
      },
      "outputs": [],
      "source": [
        "# Convert data\n",
        "spike_data = spikegen.delta(data, threshold=4, off_spike=True)\n",
        "\n",
        "# Create fig, ax\n",
        "fig = plt.figure(facecolor=\"w\", figsize=(8, 1))\n",
        "ax = fig.add_subplot(111)\n",
        "\n",
        "# Raster plot of delta converted data\n",
        "splt.raster(spike_data, ax, c=\"black\")\n",
        "\n",
        "plt.title(\"Input Neuron\")\n",
        "plt.xlabel(\"Time step\")\n",
        "plt.yticks([])\n",
        "plt.xlim(0, len(data))\n",
        "plt.show()"
      ]
    },
    {
      "cell_type": "markdown",
      "metadata": {
        "id": "S_5FajsDvnEw"
      },
      "source": [
        "We've generated additional spikes, but this isn't actually the full picture! \n",
        "\n",
        "Printing out the tensor will show the presence of \"off-spikes\" which take on a value of `-1`."
      ]
    },
    {
      "cell_type": "code",
      "execution_count": null,
      "metadata": {
        "id": "9deHKE2zxGA5"
      },
      "outputs": [],
      "source": [
        "print(spike_data)"
      ]
    },
    {
      "cell_type": "markdown",
      "metadata": {
        "id": "-Nz32V0fxm2d"
      },
      "source": [
        "While `spikegen.delta` has only been demonstrated on a fake sample of data, its true use is to compress time-series data by only generating spikes for sufficiently large changes/events. \n",
        "\n",
        "That wraps up the three main spike conversion functions! There are still additional features to each of the three conversion techniques that have not been detailed in this tutorial. In particular, we have only looked at encoding input data; we have not considered how we might encode targets, and when that is necessary. We recommend [referring to the documentation for a deeper dive](https://snntorch.readthedocs.io/en/latest/snntorch.spikegen.html)."
      ]
    },
    {
      "cell_type": "markdown",
      "metadata": {
        "id": "mxrGoLIjobZE",
        "pycharm": {
          "name": "#%% md\n"
        }
      },
      "source": [
        "## 3. Spike Generation (Optional)\n",
        "Now what if we don't actually have any data to start with? \n",
        "Say we just want a randomly generated spike train from scratch. Inside of\n",
        "`spikegen.rate` is a nested function, `rate_conv`, which actually performs the  spike conversion step.\n",
        "\n",
        "All we have to do is initialize a randomly generated `torchTensor` to pass in."
      ]
    },
    {
      "cell_type": "code",
      "execution_count": null,
      "metadata": {
        "id": "-Q_7uj0vobZE",
        "pycharm": {
          "name": "#%%\n"
        }
      },
      "outputs": [],
      "source": [
        "# Create a random spike train\n",
        "spike_prob = torch.rand((num_steps, 28, 28), dtype=dtype) * 0.5\n",
        "spike_rand = spikegen.rate_conv(spike_prob)"
      ]
    },
    {
      "cell_type": "markdown",
      "metadata": {
        "id": "KOy-NZ5YobZF",
        "pycharm": {
          "name": "#%% md\n"
        }
      },
      "source": [
        "### 3.1 Animation"
      ]
    },
    {
      "cell_type": "code",
      "execution_count": null,
      "metadata": {
        "id": "yCIwKN0WobZF",
        "pycharm": {
          "name": "#%%\n"
        }
      },
      "outputs": [],
      "source": [
        "fig, ax = plt.subplots()\n",
        "anim = splt.animator(spike_rand, fig, ax)\n",
        "\n",
        "HTML(anim.to_html5_video())"
      ]
    },
    {
      "cell_type": "code",
      "execution_count": null,
      "metadata": {
        "id": "kx-VKWxFobZF",
        "pycharm": {
          "name": "#%%\n"
        }
      },
      "outputs": [],
      "source": [
        "# Save output: .gif, .mp4 etc.\n",
        "# anim.save(\"random_spikes.gif\")"
      ]
    },
    {
      "cell_type": "markdown",
      "metadata": {
        "id": "C_IH912xobZF",
        "pycharm": {
          "name": "#%% md\n"
        }
      },
      "source": [
        "### 3.2 Raster"
      ]
    },
    {
      "cell_type": "code",
      "execution_count": null,
      "metadata": {
        "id": "F6QgcKCrobZF",
        "pycharm": {
          "name": "#%%\n"
        }
      },
      "outputs": [],
      "source": [
        "fig = plt.figure(facecolor=\"w\", figsize=(10, 5))\n",
        "ax = fig.add_subplot(111)\n",
        "splt.raster(spike_rand[:, 0].view(num_steps, -1), ax, s=25, c=\"black\")\n",
        "\n",
        "plt.title(\"Input Layer\")\n",
        "plt.xlabel(\"Time step\")\n",
        "plt.ylabel(\"Neuron Number\")\n",
        "plt.show()"
      ]
    },
    {
      "cell_type": "markdown",
      "metadata": {
        "id": "QwEXpWkRy8_N"
      },
      "source": [
        "# Conclusion"
      ]
    },
    {
      "cell_type": "markdown",
      "metadata": {
        "id": "N-SsITWKobZF",
        "pycharm": {
          "name": "#%% md\n"
        }
      },
      "source": [
        "That's it for spike conversion and generation. \n",
        "This approach generalizes beyond images, to single-dimensional and multi-dimensional tensors.\n",
        "\n",
        "For reference, the documentation for [`spikegen` can be found here](https://snntorch.readthedocs.io/en/latest/snntorch.spikegen.html) and for [`spikeplot`, here](https://snntorch.readthedocs.io/en/latest/snntorch.spikeplot.html)\n",
        "\n",
        "[In the next tutorial](https://snntorch.readthedocs.io/en/latest/tutorials/index.html), you will learn the basics of spiking neurons and how to use them.\n",
        "\n",
        "If you like this project, please consider starring ⭐ the repo on GitHub as it is the easiest and best way to support it."
      ]
    },
    {
      "cell_type": "markdown",
      "metadata": {
        "id": "_sTAvBgJ5bQM"
      },
      "source": [
        "# Additional Resources\n",
        "\n",
        "* [Check out the snnTorch GitHub project here.](https://github.com/jeshraghian/snntorch)"
      ]
    }
  ],
  "metadata": {
    "accelerator": "GPU",
    "colab": {
      "collapsed_sections": [
        "9QXsrr6Mp5e_",
        "1EWDw3bip8Ie",
        "vFM8UV9CreIX",
        "xXkTAJ9ws1Y6",
        "OgkWg605tE1y",
        "OBt0WDzyujnk",
        "xC96eesMqYo-",
        "mszPTrYOluym",
        "VTHK-wAWV57B"
      ],
      "name": "Copy of quantAwareTrain.ipynb",
      "provenance": []
    },
    "interpreter": {
      "hash": "579503e60735c0b0ad61cf404d04af89041cf694c55fa4cc17d05f5d9b483dbc"
    },
    "kernelspec": {
      "display_name": "Python 3 (ipykernel)",
      "language": "python",
      "name": "python3"
    },
    "language_info": {
      "codemirror_mode": {
        "name": "ipython",
        "version": 3
      },
      "file_extension": ".py",
      "mimetype": "text/x-python",
      "name": "python",
      "nbconvert_exporter": "python",
      "pygments_lexer": "ipython3",
      "version": "3.9.5"
    }
  },
  "nbformat": 4,
  "nbformat_minor": 0
}